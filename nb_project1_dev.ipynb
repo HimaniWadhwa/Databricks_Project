{
 "cells": [
  {
   "cell_type": "code",
   "execution_count": 0,
   "metadata": {
    "application/vnd.databricks.v1+cell": {
     "cellMetadata": {
      "byteLimit": 2048000,
      "implicitDf": true,
      "rowLimit": 10000
     },
     "inputWidgets": {},
     "nuid": "c4cfb7e0-df52-48e1-9da4-2891386bf16e",
     "showTitle": false,
     "title": ""
    }
   },
   "outputs": [
    {
     "output_type": "display_data",
     "data": {
      "text/html": [
       "<style scoped>\n",
       "  .table-result-container {\n",
       "    max-height: 300px;\n",
       "    overflow: auto;\n",
       "  }\n",
       "  table, th, td {\n",
       "    border: 1px solid black;\n",
       "    border-collapse: collapse;\n",
       "  }\n",
       "  th, td {\n",
       "    padding: 5px;\n",
       "  }\n",
       "  th {\n",
       "    text-align: left;\n",
       "  }\n",
       "</style><div class='table-result-container'><table class='table-result'><thead style='background-color: white'><tr><th>hello world</th></tr></thead><tbody><tr><td>hello world</td></tr></tbody></table></div>"
      ]
     },
     "metadata": {
      "application/vnd.databricks.v1+output": {
       "addedWidgets": {},
       "aggData": [],
       "aggError": "",
       "aggOverflow": false,
       "aggSchema": [],
       "aggSeriesLimitReached": false,
       "aggType": "",
       "arguments": {},
       "columnCustomDisplayInfos": {},
       "data": [
        [
         "hello world"
        ]
       ],
       "datasetInfos": [],
       "dbfsResultPath": null,
       "isJsonSchema": true,
       "metadata": {},
       "overflow": false,
       "plotOptions": {
        "customPlotOptions": {},
        "displayType": "table",
        "pivotAggregation": null,
        "pivotColumns": null,
        "xColumns": null,
        "yColumns": null
       },
       "removedWidgets": [],
       "schema": [
        {
         "metadata": "{}",
         "name": "hello world",
         "type": "\"string\""
        }
       ],
       "type": "table"
      }
     },
     "output_type": "display_data"
    }
   ],
   "source": [
    "%sql\n",
    "select \"hello world\""
   ]
  },
  {
   "cell_type": "code",
   "execution_count": 0,
   "metadata": {
    "application/vnd.databricks.v1+cell": {
     "cellMetadata": {
      "byteLimit": 2048000,
      "rowLimit": 10000
     },
     "inputWidgets": {},
     "nuid": "8c35d88a-1e9b-4eff-99a3-50515b2f7210",
     "showTitle": false,
     "title": ""
    }
   },
   "outputs": [
    {
     "output_type": "stream",
     "name": "stdout",
     "output_type": "stream",
     "text": [
      "'Hello World'"
     ]
    }
   ],
   "source": [
    "%python\n",
    "message = 'Hello World'\n",
    "display(message)"
   ]
  },
  {
   "cell_type": "markdown",
   "metadata": {
    "application/vnd.databricks.v1+cell": {
     "cellMetadata": {
      "byteLimit": 2048000,
      "rowLimit": 10000
     },
     "inputWidgets": {},
     "nuid": "186a96fd-7bc9-4bab-b87d-aa8f13bcf34c",
     "showTitle": false,
     "title": ""
    }
   },
   "source": [
    "\n",
    "# Intro to Databricks\n",
    "\n",
    "## Databricks notebook\n",
    "\n",
    "### What languages\n",
    "- SQL\n",
    "- Python"
   ]
  },
  {
   "cell_type": "markdown",
   "metadata": {
    "application/vnd.databricks.v1+cell": {
     "cellMetadata": {
      "byteLimit": 2048000,
      "rowLimit": 10000
     },
     "inputWidgets": {},
     "nuid": "77bae916-4cf4-4358-99c8-65352bb67d4d",
     "showTitle": false,
     "title": ""
    }
   },
   "source": [
    "#Let's get our data into databricks\n",
    "\n",
    "### \"sql\" query first and then \"pyspark\" query for the same"
   ]
  },
  {
   "cell_type": "markdown",
   "metadata": {
    "application/vnd.databricks.v1+cell": {
     "cellMetadata": {
      "byteLimit": 2048000,
      "rowLimit": 10000
     },
     "inputWidgets": {},
     "nuid": "af678773-3047-496f-8dc8-5c023dcb4104",
     "showTitle": false,
     "title": ""
    }
   },
   "source": [
    "#### reading the tables and displaying them"
   ]
  },
  {
   "cell_type": "code",
   "execution_count": 0,
   "metadata": {
    "application/vnd.databricks.v1+cell": {
     "cellMetadata": {
      "byteLimit": 2048000,
      "implicitDf": true,
      "rowLimit": 10000
     },
     "inputWidgets": {},
     "nuid": "e251bb2f-2cb4-492c-8b15-e6701cf518a5",
     "showTitle": false,
     "title": ""
    }
   },
   "outputs": [
    {
     "output_type": "display_data",
     "data": {
      "text/html": [
       "<style scoped>\n",
       "  .table-result-container {\n",
       "    max-height: 300px;\n",
       "    overflow: auto;\n",
       "  }\n",
       "  table, th, td {\n",
       "    border: 1px solid black;\n",
       "    border-collapse: collapse;\n",
       "  }\n",
       "  th, td {\n",
       "    padding: 5px;\n",
       "  }\n",
       "  th {\n",
       "    text-align: left;\n",
       "  }\n",
       "</style><div class='table-result-container'><table class='table-result'><thead style='background-color: white'><tr><th>date</th><th>convenience_store</th><th>store</th><th>county_number</th><th>county</th><th>category</th><th>category_name</th><th>vendor_no</th><th>vendor</th><th>item</th><th>description</th><th>pack</th><th>liter_size</th><th>state_btl_cost</th><th>btl_price</th><th>bottle_qty</th><th>total</th></tr></thead><tbody><tr><td>19-02-2014 00:00</td><td>NULL</td><td>2290</td><td>11</td><td>Buena Vista</td><td>1071100</td><td>AMERICAN COCKTAILS</td><td>55</td><td>Sazerac North America</td><td>57051</td><td>Barton Long Island Iced Tea</td><td>12</td><td>1000</td><td>4.1</td><td>6.15</td><td>2</td><td>12.3</td></tr><tr><td>14-04-2014 00:00</td><td>NULL</td><td>2588</td><td>57</td><td>Linn</td><td>1031080</td><td>80 PROOF VODKA</td><td>301</td><td>Fifth Generation Inc.</td><td>38178</td><td>Tito's Handmade Vodka</td><td>6</td><td>1750</td><td>18.52</td><td>27.78</td><td>6</td><td>166.68</td></tr><tr><td>13-08-2014 00:00</td><td>NULL</td><td>3986</td><td>97</td><td>Woodbury</td><td>1081015</td><td>IMPORTED AMARETTO</td><td>305</td><td>MHW Ltd</td><td>64136</td><td>Disaronno Amaretto</td><td>12</td><td>750</td><td>13.86</td><td>20.79</td><td>1</td><td>20.79</td></tr><tr><td>21-11-2014 00:00</td><td>NULL</td><td>2588</td><td>57</td><td>Linn</td><td>1081900</td><td>MISC. AMERICAN CORDIALS & LIQUEURS</td><td>322</td><td>U.S. Distilled Prod. Co</td><td>75208</td><td>Kinky Liqueur Mini</td><td>6</td><td>500</td><td>6.62</td><td>9.93</td><td>1</td><td>9.93</td></tr><tr><td>17-02-2014 00:00</td><td>NULL</td><td>2633</td><td>77</td><td>Polk</td><td>1081200</td><td>CREAM LIQUEURS</td><td>260</td><td>Diageo Americas</td><td>74086</td><td>Godiva Liqueur</td><td>12</td><td>750</td><td>17.0</td><td>25.49</td><td>12</td><td>305.88</td></tr><tr><td>09-07-2014 00:00</td><td>NULL</td><td>2838</td><td>82</td><td>Scott</td><td>1062200</td><td>PUERTO RICO & VIRGIN ISLANDS RUM</td><td>434</td><td>Luxco-St Louis</td><td>45278</td><td>Paramount White Rum</td><td>6</td><td>1750</td><td>7.84</td><td>11.76</td><td>12</td><td>141.12</td></tr><tr><td>24-02-2014 00:00</td><td>Y</td><td>4771</td><td>57</td><td>Linn</td><td>1012100</td><td>CANADIAN WHISKIES</td><td>260</td><td>Diageo Americas</td><td>11293</td><td>Crown Royal Canadian Whisky</td><td>48</td><td>200</td><td>4.71</td><td>7.07</td><td>48</td><td>339.36</td></tr><tr><td>05-03-2014 00:00</td><td>NULL</td><td>2642</td><td>63</td><td>Marion</td><td>1032080</td><td>IMPORTED VODKA</td><td>370</td><td>Pernod Ricard USA/Austin Nichols</td><td>34007</td><td>Absolut Swedish Vodka 80 Prf</td><td>12</td><td>1000</td><td>15.0</td><td>22.49</td><td>12</td><td>269.88</td></tr><tr><td>12-03-2014 00:00</td><td>NULL</td><td>3644</td><td>77</td><td>Polk</td><td>1011100</td><td>BLENDED WHISKIES</td><td>260</td><td>Diageo Americas</td><td>25606</td><td>Seagrams 7 Crown Bl Whiskey</td><td>12</td><td>750</td><td>7.0</td><td>10.49</td><td>12</td><td>125.88</td></tr><tr><td>21-04-2014 00:00</td><td>Y</td><td>4897</td><td>29</td><td>Des Moines</td><td>1031080</td><td>80 PROOF VODKA</td><td>380</td><td>Phillips Beverage Company</td><td>37348</td><td>Phillips Vodka</td><td>6</td><td>1750</td><td>7.6</td><td>11.4</td><td>6</td><td>68.4</td></tr></tbody></table></div>"
      ]
     },
     "metadata": {
      "application/vnd.databricks.v1+output": {
       "addedWidgets": {},
       "aggData": [],
       "aggError": "",
       "aggOverflow": false,
       "aggSchema": [],
       "aggSeriesLimitReached": false,
       "aggType": "",
       "arguments": {},
       "columnCustomDisplayInfos": {},
       "data": [
        [
         "19-02-2014 00:00",
         "NULL",
         "2290",
         "11",
         "Buena Vista",
         "1071100",
         "AMERICAN COCKTAILS",
         "55",
         "Sazerac North America",
         "57051",
         "Barton Long Island Iced Tea",
         12,
         1000,
         4.1,
         6.15,
         2,
         12.3
        ],
        [
         "14-04-2014 00:00",
         "NULL",
         "2588",
         "57",
         "Linn",
         "1031080",
         "80 PROOF VODKA",
         "301",
         "Fifth Generation Inc.",
         "38178",
         "Tito's Handmade Vodka",
         6,
         1750,
         18.52,
         27.78,
         6,
         166.68
        ],
        [
         "13-08-2014 00:00",
         "NULL",
         "3986",
         "97",
         "Woodbury",
         "1081015",
         "IMPORTED AMARETTO",
         "305",
         "MHW Ltd",
         "64136",
         "Disaronno Amaretto",
         12,
         750,
         13.86,
         20.79,
         1,
         20.79
        ],
        [
         "21-11-2014 00:00",
         "NULL",
         "2588",
         "57",
         "Linn",
         "1081900",
         "MISC. AMERICAN CORDIALS & LIQUEURS",
         "322",
         "U.S. Distilled Prod. Co",
         "75208",
         "Kinky Liqueur Mini",
         6,
         500,
         6.62,
         9.93,
         1,
         9.93
        ],
        [
         "17-02-2014 00:00",
         "NULL",
         "2633",
         "77",
         "Polk",
         "1081200",
         "CREAM LIQUEURS",
         "260",
         "Diageo Americas",
         "74086",
         "Godiva Liqueur",
         12,
         750,
         17.0,
         25.49,
         12,
         305.88
        ],
        [
         "09-07-2014 00:00",
         "NULL",
         "2838",
         "82",
         "Scott",
         "1062200",
         "PUERTO RICO & VIRGIN ISLANDS RUM",
         "434",
         "Luxco-St Louis",
         "45278",
         "Paramount White Rum",
         6,
         1750,
         7.84,
         11.76,
         12,
         141.12
        ],
        [
         "24-02-2014 00:00",
         "Y",
         "4771",
         "57",
         "Linn",
         "1012100",
         "CANADIAN WHISKIES",
         "260",
         "Diageo Americas",
         "11293",
         "Crown Royal Canadian Whisky",
         48,
         200,
         4.71,
         7.07,
         48,
         339.36
        ],
        [
         "05-03-2014 00:00",
         "NULL",
         "2642",
         "63",
         "Marion",
         "1032080",
         "IMPORTED VODKA",
         "370",
         "Pernod Ricard USA/Austin Nichols",
         "34007",
         "Absolut Swedish Vodka 80 Prf",
         12,
         1000,
         15.0,
         22.49,
         12,
         269.88
        ],
        [
         "12-03-2014 00:00",
         "NULL",
         "3644",
         "77",
         "Polk",
         "1011100",
         "BLENDED WHISKIES",
         "260",
         "Diageo Americas",
         "25606",
         "Seagrams 7 Crown Bl Whiskey",
         12,
         750,
         7.0,
         10.49,
         12,
         125.88
        ],
        [
         "21-04-2014 00:00",
         "Y",
         "4897",
         "29",
         "Des Moines",
         "1031080",
         "80 PROOF VODKA",
         "380",
         "Phillips Beverage Company",
         "37348",
         "Phillips Vodka",
         6,
         1750,
         7.6,
         11.4,
         6,
         68.4
        ]
       ],
       "datasetInfos": [],
       "dbfsResultPath": null,
       "isJsonSchema": true,
       "metadata": {},
       "overflow": false,
       "plotOptions": {
        "customPlotOptions": {},
        "displayType": "table",
        "pivotAggregation": null,
        "pivotColumns": null,
        "xColumns": null,
        "yColumns": null
       },
       "removedWidgets": [],
       "schema": [
        {
         "metadata": "{}",
         "name": "date",
         "type": "\"string\""
        },
        {
         "metadata": "{}",
         "name": "convenience_store",
         "type": "\"string\""
        },
        {
         "metadata": "{}",
         "name": "store",
         "type": "\"string\""
        },
        {
         "metadata": "{}",
         "name": "county_number",
         "type": "\"string\""
        },
        {
         "metadata": "{}",
         "name": "county",
         "type": "\"string\""
        },
        {
         "metadata": "{}",
         "name": "category",
         "type": "\"string\""
        },
        {
         "metadata": "{}",
         "name": "category_name",
         "type": "\"string\""
        },
        {
         "metadata": "{}",
         "name": "vendor_no",
         "type": "\"string\""
        },
        {
         "metadata": "{}",
         "name": "vendor",
         "type": "\"string\""
        },
        {
         "metadata": "{}",
         "name": "item",
         "type": "\"string\""
        },
        {
         "metadata": "{}",
         "name": "description",
         "type": "\"string\""
        },
        {
         "metadata": "{}",
         "name": "pack",
         "type": "\"long\""
        },
        {
         "metadata": "{}",
         "name": "liter_size",
         "type": "\"long\""
        },
        {
         "metadata": "{}",
         "name": "state_btl_cost",
         "type": "\"double\""
        },
        {
         "metadata": "{}",
         "name": "btl_price",
         "type": "\"double\""
        },
        {
         "metadata": "{}",
         "name": "bottle_qty",
         "type": "\"long\""
        },
        {
         "metadata": "{}",
         "name": "total",
         "type": "\"double\""
        }
       ],
       "type": "table"
      }
     },
     "output_type": "display_data"
    }
   ],
   "source": [
    "%sql\n",
    "select * from `hive_metastore`.`default`.`sales_data_0203`limit 10;"
   ]
  },
  {
   "cell_type": "code",
   "execution_count": 0,
   "metadata": {
    "application/vnd.databricks.v1+cell": {
     "cellMetadata": {
      "byteLimit": 2048000,
      "implicitDf": true,
      "rowLimit": 10000
     },
     "inputWidgets": {},
     "nuid": "12af1319-aa80-42e3-91bf-e82edf2859d3",
     "showTitle": false,
     "title": ""
    }
   },
   "outputs": [
    {
     "output_type": "display_data",
     "data": {
      "text/html": [
       "<style scoped>\n",
       "  .table-result-container {\n",
       "    max-height: 300px;\n",
       "    overflow: auto;\n",
       "  }\n",
       "  table, th, td {\n",
       "    border: 1px solid black;\n",
       "    border-collapse: collapse;\n",
       "  }\n",
       "  th, td {\n",
       "    padding: 5px;\n",
       "  }\n",
       "  th {\n",
       "    text-align: left;\n",
       "  }\n",
       "</style><div class='table-result-container'><table class='table-result'><thead style='background-color: white'><tr><th>col_name</th><th>data_type</th><th>comment</th></tr></thead><tbody><tr><td>date</td><td>string</td><td>null</td></tr><tr><td>convenience_store</td><td>string</td><td>null</td></tr><tr><td>store</td><td>string</td><td>null</td></tr><tr><td>county_number</td><td>string</td><td>null</td></tr><tr><td>county</td><td>string</td><td>null</td></tr><tr><td>category</td><td>string</td><td>null</td></tr><tr><td>category_name</td><td>string</td><td>null</td></tr><tr><td>vendor_no</td><td>string</td><td>null</td></tr><tr><td>vendor</td><td>string</td><td>null</td></tr><tr><td>item</td><td>string</td><td>null</td></tr><tr><td>description</td><td>string</td><td>null</td></tr><tr><td>pack</td><td>bigint</td><td>null</td></tr><tr><td>liter_size</td><td>bigint</td><td>null</td></tr><tr><td>state_btl_cost</td><td>double</td><td>null</td></tr><tr><td>btl_price</td><td>double</td><td>null</td></tr><tr><td>bottle_qty</td><td>bigint</td><td>null</td></tr><tr><td>total</td><td>double</td><td>null</td></tr></tbody></table></div>"
      ]
     },
     "metadata": {
      "application/vnd.databricks.v1+output": {
       "addedWidgets": {},
       "aggData": [],
       "aggError": "",
       "aggOverflow": false,
       "aggSchema": [],
       "aggSeriesLimitReached": false,
       "aggType": "",
       "arguments": {},
       "columnCustomDisplayInfos": {},
       "data": [
        [
         "date",
         "string",
         null
        ],
        [
         "convenience_store",
         "string",
         null
        ],
        [
         "store",
         "string",
         null
        ],
        [
         "county_number",
         "string",
         null
        ],
        [
         "county",
         "string",
         null
        ],
        [
         "category",
         "string",
         null
        ],
        [
         "category_name",
         "string",
         null
        ],
        [
         "vendor_no",
         "string",
         null
        ],
        [
         "vendor",
         "string",
         null
        ],
        [
         "item",
         "string",
         null
        ],
        [
         "description",
         "string",
         null
        ],
        [
         "pack",
         "bigint",
         null
        ],
        [
         "liter_size",
         "bigint",
         null
        ],
        [
         "state_btl_cost",
         "double",
         null
        ],
        [
         "btl_price",
         "double",
         null
        ],
        [
         "bottle_qty",
         "bigint",
         null
        ],
        [
         "total",
         "double",
         null
        ]
       ],
       "datasetInfos": [],
       "dbfsResultPath": null,
       "isJsonSchema": true,
       "metadata": {},
       "overflow": false,
       "plotOptions": {
        "customPlotOptions": {},
        "displayType": "table",
        "pivotAggregation": null,
        "pivotColumns": null,
        "xColumns": null,
        "yColumns": null
       },
       "removedWidgets": [],
       "schema": [
        {
         "metadata": "{\"comment\":\"name of the column\"}",
         "name": "col_name",
         "type": "\"string\""
        },
        {
         "metadata": "{\"comment\":\"data type of the column\"}",
         "name": "data_type",
         "type": "\"string\""
        },
        {
         "metadata": "{\"comment\":\"comment of the column\"}",
         "name": "comment",
         "type": "\"string\""
        }
       ],
       "type": "table"
      }
     },
     "output_type": "display_data"
    }
   ],
   "source": [
    "%sql\n",
    "describe `hive_metastore`.`default`.`sales_data_0203`"
   ]
  },
  {
   "cell_type": "code",
   "execution_count": 0,
   "metadata": {
    "application/vnd.databricks.v1+cell": {
     "cellMetadata": {
      "byteLimit": 2048000,
      "rowLimit": 10000
     },
     "inputWidgets": {},
     "nuid": "9d9b9a69-6bdf-4040-835a-5934563fd1ed",
     "showTitle": false,
     "title": ""
    }
   },
   "outputs": [],
   "source": [
    "%python\n",
    "sales_data_python = spark.sql(\"select * from `hive_metastore`.`default`.`sales_data_0203`\")"
   ]
  },
  {
   "cell_type": "code",
   "execution_count": 0,
   "metadata": {
    "application/vnd.databricks.v1+cell": {
     "cellMetadata": {
      "byteLimit": 2048000,
      "rowLimit": 10000
     },
     "inputWidgets": {},
     "nuid": "da3dfa45-c839-4224-85d7-290d1167b5da",
     "showTitle": false,
     "title": ""
    }
   },
   "outputs": [
    {
     "output_type": "display_data",
     "data": {
      "text/html": [
       "<style scoped>\n",
       "  .table-result-container {\n",
       "    max-height: 300px;\n",
       "    overflow: auto;\n",
       "  }\n",
       "  table, th, td {\n",
       "    border: 1px solid black;\n",
       "    border-collapse: collapse;\n",
       "  }\n",
       "  th, td {\n",
       "    padding: 5px;\n",
       "  }\n",
       "  th {\n",
       "    text-align: left;\n",
       "  }\n",
       "</style><div class='table-result-container'><table class='table-result'><thead style='background-color: white'><tr><th>date</th><th>convenience_store</th><th>store</th><th>county_number</th><th>county</th><th>category</th><th>category_name</th><th>vendor_no</th><th>vendor</th><th>item</th><th>description</th><th>pack</th><th>liter_size</th><th>state_btl_cost</th><th>btl_price</th><th>bottle_qty</th><th>total</th></tr></thead><tbody><tr><td>19-02-2014 00:00</td><td>NULL</td><td>2290</td><td>11</td><td>Buena Vista</td><td>1071100</td><td>AMERICAN COCKTAILS</td><td>55</td><td>Sazerac North America</td><td>57051</td><td>Barton Long Island Iced Tea</td><td>12</td><td>1000</td><td>4.1</td><td>6.15</td><td>2</td><td>12.3</td></tr><tr><td>14-04-2014 00:00</td><td>NULL</td><td>2588</td><td>57</td><td>Linn</td><td>1031080</td><td>80 PROOF VODKA</td><td>301</td><td>Fifth Generation Inc.</td><td>38178</td><td>Tito's Handmade Vodka</td><td>6</td><td>1750</td><td>18.52</td><td>27.78</td><td>6</td><td>166.68</td></tr><tr><td>13-08-2014 00:00</td><td>NULL</td><td>3986</td><td>97</td><td>Woodbury</td><td>1081015</td><td>IMPORTED AMARETTO</td><td>305</td><td>MHW Ltd</td><td>64136</td><td>Disaronno Amaretto</td><td>12</td><td>750</td><td>13.86</td><td>20.79</td><td>1</td><td>20.79</td></tr><tr><td>21-11-2014 00:00</td><td>NULL</td><td>2588</td><td>57</td><td>Linn</td><td>1081900</td><td>MISC. AMERICAN CORDIALS & LIQUEURS</td><td>322</td><td>U.S. Distilled Prod. Co</td><td>75208</td><td>Kinky Liqueur Mini</td><td>6</td><td>500</td><td>6.62</td><td>9.93</td><td>1</td><td>9.93</td></tr><tr><td>17-02-2014 00:00</td><td>NULL</td><td>2633</td><td>77</td><td>Polk</td><td>1081200</td><td>CREAM LIQUEURS</td><td>260</td><td>Diageo Americas</td><td>74086</td><td>Godiva Liqueur</td><td>12</td><td>750</td><td>17.0</td><td>25.49</td><td>12</td><td>305.88</td></tr><tr><td>09-07-2014 00:00</td><td>NULL</td><td>2838</td><td>82</td><td>Scott</td><td>1062200</td><td>PUERTO RICO & VIRGIN ISLANDS RUM</td><td>434</td><td>Luxco-St Louis</td><td>45278</td><td>Paramount White Rum</td><td>6</td><td>1750</td><td>7.84</td><td>11.76</td><td>12</td><td>141.12</td></tr><tr><td>24-02-2014 00:00</td><td>Y</td><td>4771</td><td>57</td><td>Linn</td><td>1012100</td><td>CANADIAN WHISKIES</td><td>260</td><td>Diageo Americas</td><td>11293</td><td>Crown Royal Canadian Whisky</td><td>48</td><td>200</td><td>4.71</td><td>7.07</td><td>48</td><td>339.36</td></tr><tr><td>05-03-2014 00:00</td><td>NULL</td><td>2642</td><td>63</td><td>Marion</td><td>1032080</td><td>IMPORTED VODKA</td><td>370</td><td>Pernod Ricard USA/Austin Nichols</td><td>34007</td><td>Absolut Swedish Vodka 80 Prf</td><td>12</td><td>1000</td><td>15.0</td><td>22.49</td><td>12</td><td>269.88</td></tr><tr><td>12-03-2014 00:00</td><td>NULL</td><td>3644</td><td>77</td><td>Polk</td><td>1011100</td><td>BLENDED WHISKIES</td><td>260</td><td>Diageo Americas</td><td>25606</td><td>Seagrams 7 Crown Bl Whiskey</td><td>12</td><td>750</td><td>7.0</td><td>10.49</td><td>12</td><td>125.88</td></tr><tr><td>21-04-2014 00:00</td><td>Y</td><td>4897</td><td>29</td><td>Des Moines</td><td>1031080</td><td>80 PROOF VODKA</td><td>380</td><td>Phillips Beverage Company</td><td>37348</td><td>Phillips Vodka</td><td>6</td><td>1750</td><td>7.6</td><td>11.4</td><td>6</td><td>68.4</td></tr></tbody></table></div>"
      ]
     },
     "metadata": {
      "application/vnd.databricks.v1+output": {
       "addedWidgets": {},
       "aggData": [],
       "aggError": "",
       "aggOverflow": false,
       "aggSchema": [],
       "aggSeriesLimitReached": false,
       "aggType": "",
       "arguments": {},
       "columnCustomDisplayInfos": {},
       "data": [
        [
         "19-02-2014 00:00",
         "NULL",
         "2290",
         "11",
         "Buena Vista",
         "1071100",
         "AMERICAN COCKTAILS",
         "55",
         "Sazerac North America",
         "57051",
         "Barton Long Island Iced Tea",
         12,
         1000,
         4.1,
         6.15,
         2,
         12.3
        ],
        [
         "14-04-2014 00:00",
         "NULL",
         "2588",
         "57",
         "Linn",
         "1031080",
         "80 PROOF VODKA",
         "301",
         "Fifth Generation Inc.",
         "38178",
         "Tito's Handmade Vodka",
         6,
         1750,
         18.52,
         27.78,
         6,
         166.68
        ],
        [
         "13-08-2014 00:00",
         "NULL",
         "3986",
         "97",
         "Woodbury",
         "1081015",
         "IMPORTED AMARETTO",
         "305",
         "MHW Ltd",
         "64136",
         "Disaronno Amaretto",
         12,
         750,
         13.86,
         20.79,
         1,
         20.79
        ],
        [
         "21-11-2014 00:00",
         "NULL",
         "2588",
         "57",
         "Linn",
         "1081900",
         "MISC. AMERICAN CORDIALS & LIQUEURS",
         "322",
         "U.S. Distilled Prod. Co",
         "75208",
         "Kinky Liqueur Mini",
         6,
         500,
         6.62,
         9.93,
         1,
         9.93
        ],
        [
         "17-02-2014 00:00",
         "NULL",
         "2633",
         "77",
         "Polk",
         "1081200",
         "CREAM LIQUEURS",
         "260",
         "Diageo Americas",
         "74086",
         "Godiva Liqueur",
         12,
         750,
         17.0,
         25.49,
         12,
         305.88
        ],
        [
         "09-07-2014 00:00",
         "NULL",
         "2838",
         "82",
         "Scott",
         "1062200",
         "PUERTO RICO & VIRGIN ISLANDS RUM",
         "434",
         "Luxco-St Louis",
         "45278",
         "Paramount White Rum",
         6,
         1750,
         7.84,
         11.76,
         12,
         141.12
        ],
        [
         "24-02-2014 00:00",
         "Y",
         "4771",
         "57",
         "Linn",
         "1012100",
         "CANADIAN WHISKIES",
         "260",
         "Diageo Americas",
         "11293",
         "Crown Royal Canadian Whisky",
         48,
         200,
         4.71,
         7.07,
         48,
         339.36
        ],
        [
         "05-03-2014 00:00",
         "NULL",
         "2642",
         "63",
         "Marion",
         "1032080",
         "IMPORTED VODKA",
         "370",
         "Pernod Ricard USA/Austin Nichols",
         "34007",
         "Absolut Swedish Vodka 80 Prf",
         12,
         1000,
         15.0,
         22.49,
         12,
         269.88
        ],
        [
         "12-03-2014 00:00",
         "NULL",
         "3644",
         "77",
         "Polk",
         "1011100",
         "BLENDED WHISKIES",
         "260",
         "Diageo Americas",
         "25606",
         "Seagrams 7 Crown Bl Whiskey",
         12,
         750,
         7.0,
         10.49,
         12,
         125.88
        ],
        [
         "21-04-2014 00:00",
         "Y",
         "4897",
         "29",
         "Des Moines",
         "1031080",
         "80 PROOF VODKA",
         "380",
         "Phillips Beverage Company",
         "37348",
         "Phillips Vodka",
         6,
         1750,
         7.6,
         11.4,
         6,
         68.4
        ]
       ],
       "datasetInfos": [],
       "dbfsResultPath": null,
       "isJsonSchema": true,
       "metadata": {},
       "overflow": false,
       "plotOptions": {
        "customPlotOptions": {},
        "displayType": "table",
        "pivotAggregation": null,
        "pivotColumns": null,
        "xColumns": null,
        "yColumns": null
       },
       "removedWidgets": [],
       "schema": [
        {
         "metadata": "{}",
         "name": "date",
         "type": "\"string\""
        },
        {
         "metadata": "{}",
         "name": "convenience_store",
         "type": "\"string\""
        },
        {
         "metadata": "{}",
         "name": "store",
         "type": "\"string\""
        },
        {
         "metadata": "{}",
         "name": "county_number",
         "type": "\"string\""
        },
        {
         "metadata": "{}",
         "name": "county",
         "type": "\"string\""
        },
        {
         "metadata": "{}",
         "name": "category",
         "type": "\"string\""
        },
        {
         "metadata": "{}",
         "name": "category_name",
         "type": "\"string\""
        },
        {
         "metadata": "{}",
         "name": "vendor_no",
         "type": "\"string\""
        },
        {
         "metadata": "{}",
         "name": "vendor",
         "type": "\"string\""
        },
        {
         "metadata": "{}",
         "name": "item",
         "type": "\"string\""
        },
        {
         "metadata": "{}",
         "name": "description",
         "type": "\"string\""
        },
        {
         "metadata": "{}",
         "name": "pack",
         "type": "\"long\""
        },
        {
         "metadata": "{}",
         "name": "liter_size",
         "type": "\"long\""
        },
        {
         "metadata": "{}",
         "name": "state_btl_cost",
         "type": "\"double\""
        },
        {
         "metadata": "{}",
         "name": "btl_price",
         "type": "\"double\""
        },
        {
         "metadata": "{}",
         "name": "bottle_qty",
         "type": "\"long\""
        },
        {
         "metadata": "{}",
         "name": "total",
         "type": "\"double\""
        }
       ],
       "type": "table"
      }
     },
     "output_type": "display_data"
    }
   ],
   "source": [
    "%python\n",
    "sales_data_python.limit(10).display()"
   ]
  },
  {
   "cell_type": "code",
   "execution_count": 0,
   "metadata": {
    "application/vnd.databricks.v1+cell": {
     "cellMetadata": {
      "byteLimit": 2048000,
      "rowLimit": 10000
     },
     "inputWidgets": {},
     "nuid": "df5b831b-e619-463c-940f-827cc5bd7278",
     "showTitle": false,
     "title": ""
    }
   },
   "outputs": [],
   "source": [
    "%python\n",
    "sales_data = 'hive_metastore.default.sales_data_0203'\n",
    "sales_data_python_2 = spark.read.table(sales_data)\n",
    "#reading the same table - an alternative"
   ]
  },
  {
   "cell_type": "code",
   "execution_count": 0,
   "metadata": {
    "application/vnd.databricks.v1+cell": {
     "cellMetadata": {
      "byteLimit": 2048000,
      "rowLimit": 10000
     },
     "inputWidgets": {},
     "nuid": "a97f9f59-c6e1-4d8a-ae19-da221162c09b",
     "showTitle": false,
     "title": ""
    }
   },
   "outputs": [
    {
     "output_type": "display_data",
     "data": {
      "text/html": [
       "<style scoped>\n",
       "  .table-result-container {\n",
       "    max-height: 300px;\n",
       "    overflow: auto;\n",
       "  }\n",
       "  table, th, td {\n",
       "    border: 1px solid black;\n",
       "    border-collapse: collapse;\n",
       "  }\n",
       "  th, td {\n",
       "    padding: 5px;\n",
       "  }\n",
       "  th {\n",
       "    text-align: left;\n",
       "  }\n",
       "</style><div class='table-result-container'><table class='table-result'><thead style='background-color: white'><tr><th>date</th><th>convenience_store</th><th>store</th><th>county_number</th><th>county</th><th>category</th><th>category_name</th><th>vendor_no</th><th>vendor</th><th>item</th><th>description</th><th>pack</th><th>liter_size</th><th>state_btl_cost</th><th>btl_price</th><th>bottle_qty</th><th>total</th></tr></thead><tbody><tr><td>19-02-2014 00:00</td><td>NULL</td><td>2290</td><td>11</td><td>Buena Vista</td><td>1071100</td><td>AMERICAN COCKTAILS</td><td>55</td><td>Sazerac North America</td><td>57051</td><td>Barton Long Island Iced Tea</td><td>12</td><td>1000</td><td>4.1</td><td>6.15</td><td>2</td><td>12.3</td></tr><tr><td>14-04-2014 00:00</td><td>NULL</td><td>2588</td><td>57</td><td>Linn</td><td>1031080</td><td>80 PROOF VODKA</td><td>301</td><td>Fifth Generation Inc.</td><td>38178</td><td>Tito's Handmade Vodka</td><td>6</td><td>1750</td><td>18.52</td><td>27.78</td><td>6</td><td>166.68</td></tr><tr><td>13-08-2014 00:00</td><td>NULL</td><td>3986</td><td>97</td><td>Woodbury</td><td>1081015</td><td>IMPORTED AMARETTO</td><td>305</td><td>MHW Ltd</td><td>64136</td><td>Disaronno Amaretto</td><td>12</td><td>750</td><td>13.86</td><td>20.79</td><td>1</td><td>20.79</td></tr><tr><td>21-11-2014 00:00</td><td>NULL</td><td>2588</td><td>57</td><td>Linn</td><td>1081900</td><td>MISC. AMERICAN CORDIALS & LIQUEURS</td><td>322</td><td>U.S. Distilled Prod. Co</td><td>75208</td><td>Kinky Liqueur Mini</td><td>6</td><td>500</td><td>6.62</td><td>9.93</td><td>1</td><td>9.93</td></tr><tr><td>17-02-2014 00:00</td><td>NULL</td><td>2633</td><td>77</td><td>Polk</td><td>1081200</td><td>CREAM LIQUEURS</td><td>260</td><td>Diageo Americas</td><td>74086</td><td>Godiva Liqueur</td><td>12</td><td>750</td><td>17.0</td><td>25.49</td><td>12</td><td>305.88</td></tr><tr><td>09-07-2014 00:00</td><td>NULL</td><td>2838</td><td>82</td><td>Scott</td><td>1062200</td><td>PUERTO RICO & VIRGIN ISLANDS RUM</td><td>434</td><td>Luxco-St Louis</td><td>45278</td><td>Paramount White Rum</td><td>6</td><td>1750</td><td>7.84</td><td>11.76</td><td>12</td><td>141.12</td></tr><tr><td>24-02-2014 00:00</td><td>Y</td><td>4771</td><td>57</td><td>Linn</td><td>1012100</td><td>CANADIAN WHISKIES</td><td>260</td><td>Diageo Americas</td><td>11293</td><td>Crown Royal Canadian Whisky</td><td>48</td><td>200</td><td>4.71</td><td>7.07</td><td>48</td><td>339.36</td></tr><tr><td>05-03-2014 00:00</td><td>NULL</td><td>2642</td><td>63</td><td>Marion</td><td>1032080</td><td>IMPORTED VODKA</td><td>370</td><td>Pernod Ricard USA/Austin Nichols</td><td>34007</td><td>Absolut Swedish Vodka 80 Prf</td><td>12</td><td>1000</td><td>15.0</td><td>22.49</td><td>12</td><td>269.88</td></tr><tr><td>12-03-2014 00:00</td><td>NULL</td><td>3644</td><td>77</td><td>Polk</td><td>1011100</td><td>BLENDED WHISKIES</td><td>260</td><td>Diageo Americas</td><td>25606</td><td>Seagrams 7 Crown Bl Whiskey</td><td>12</td><td>750</td><td>7.0</td><td>10.49</td><td>12</td><td>125.88</td></tr><tr><td>21-04-2014 00:00</td><td>Y</td><td>4897</td><td>29</td><td>Des Moines</td><td>1031080</td><td>80 PROOF VODKA</td><td>380</td><td>Phillips Beverage Company</td><td>37348</td><td>Phillips Vodka</td><td>6</td><td>1750</td><td>7.6</td><td>11.4</td><td>6</td><td>68.4</td></tr></tbody></table></div>"
      ]
     },
     "metadata": {
      "application/vnd.databricks.v1+output": {
       "addedWidgets": {},
       "aggData": [],
       "aggError": "",
       "aggOverflow": false,
       "aggSchema": [],
       "aggSeriesLimitReached": false,
       "aggType": "",
       "arguments": {},
       "columnCustomDisplayInfos": {},
       "data": [
        [
         "19-02-2014 00:00",
         "NULL",
         "2290",
         "11",
         "Buena Vista",
         "1071100",
         "AMERICAN COCKTAILS",
         "55",
         "Sazerac North America",
         "57051",
         "Barton Long Island Iced Tea",
         12,
         1000,
         4.1,
         6.15,
         2,
         12.3
        ],
        [
         "14-04-2014 00:00",
         "NULL",
         "2588",
         "57",
         "Linn",
         "1031080",
         "80 PROOF VODKA",
         "301",
         "Fifth Generation Inc.",
         "38178",
         "Tito's Handmade Vodka",
         6,
         1750,
         18.52,
         27.78,
         6,
         166.68
        ],
        [
         "13-08-2014 00:00",
         "NULL",
         "3986",
         "97",
         "Woodbury",
         "1081015",
         "IMPORTED AMARETTO",
         "305",
         "MHW Ltd",
         "64136",
         "Disaronno Amaretto",
         12,
         750,
         13.86,
         20.79,
         1,
         20.79
        ],
        [
         "21-11-2014 00:00",
         "NULL",
         "2588",
         "57",
         "Linn",
         "1081900",
         "MISC. AMERICAN CORDIALS & LIQUEURS",
         "322",
         "U.S. Distilled Prod. Co",
         "75208",
         "Kinky Liqueur Mini",
         6,
         500,
         6.62,
         9.93,
         1,
         9.93
        ],
        [
         "17-02-2014 00:00",
         "NULL",
         "2633",
         "77",
         "Polk",
         "1081200",
         "CREAM LIQUEURS",
         "260",
         "Diageo Americas",
         "74086",
         "Godiva Liqueur",
         12,
         750,
         17.0,
         25.49,
         12,
         305.88
        ],
        [
         "09-07-2014 00:00",
         "NULL",
         "2838",
         "82",
         "Scott",
         "1062200",
         "PUERTO RICO & VIRGIN ISLANDS RUM",
         "434",
         "Luxco-St Louis",
         "45278",
         "Paramount White Rum",
         6,
         1750,
         7.84,
         11.76,
         12,
         141.12
        ],
        [
         "24-02-2014 00:00",
         "Y",
         "4771",
         "57",
         "Linn",
         "1012100",
         "CANADIAN WHISKIES",
         "260",
         "Diageo Americas",
         "11293",
         "Crown Royal Canadian Whisky",
         48,
         200,
         4.71,
         7.07,
         48,
         339.36
        ],
        [
         "05-03-2014 00:00",
         "NULL",
         "2642",
         "63",
         "Marion",
         "1032080",
         "IMPORTED VODKA",
         "370",
         "Pernod Ricard USA/Austin Nichols",
         "34007",
         "Absolut Swedish Vodka 80 Prf",
         12,
         1000,
         15.0,
         22.49,
         12,
         269.88
        ],
        [
         "12-03-2014 00:00",
         "NULL",
         "3644",
         "77",
         "Polk",
         "1011100",
         "BLENDED WHISKIES",
         "260",
         "Diageo Americas",
         "25606",
         "Seagrams 7 Crown Bl Whiskey",
         12,
         750,
         7.0,
         10.49,
         12,
         125.88
        ],
        [
         "21-04-2014 00:00",
         "Y",
         "4897",
         "29",
         "Des Moines",
         "1031080",
         "80 PROOF VODKA",
         "380",
         "Phillips Beverage Company",
         "37348",
         "Phillips Vodka",
         6,
         1750,
         7.6,
         11.4,
         6,
         68.4
        ]
       ],
       "datasetInfos": [],
       "dbfsResultPath": null,
       "isJsonSchema": true,
       "metadata": {},
       "overflow": false,
       "plotOptions": {
        "customPlotOptions": {},
        "displayType": "table",
        "pivotAggregation": null,
        "pivotColumns": null,
        "xColumns": null,
        "yColumns": null
       },
       "removedWidgets": [],
       "schema": [
        {
         "metadata": "{}",
         "name": "date",
         "type": "\"string\""
        },
        {
         "metadata": "{}",
         "name": "convenience_store",
         "type": "\"string\""
        },
        {
         "metadata": "{}",
         "name": "store",
         "type": "\"string\""
        },
        {
         "metadata": "{}",
         "name": "county_number",
         "type": "\"string\""
        },
        {
         "metadata": "{}",
         "name": "county",
         "type": "\"string\""
        },
        {
         "metadata": "{}",
         "name": "category",
         "type": "\"string\""
        },
        {
         "metadata": "{}",
         "name": "category_name",
         "type": "\"string\""
        },
        {
         "metadata": "{}",
         "name": "vendor_no",
         "type": "\"string\""
        },
        {
         "metadata": "{}",
         "name": "vendor",
         "type": "\"string\""
        },
        {
         "metadata": "{}",
         "name": "item",
         "type": "\"string\""
        },
        {
         "metadata": "{}",
         "name": "description",
         "type": "\"string\""
        },
        {
         "metadata": "{}",
         "name": "pack",
         "type": "\"long\""
        },
        {
         "metadata": "{}",
         "name": "liter_size",
         "type": "\"long\""
        },
        {
         "metadata": "{}",
         "name": "state_btl_cost",
         "type": "\"double\""
        },
        {
         "metadata": "{}",
         "name": "btl_price",
         "type": "\"double\""
        },
        {
         "metadata": "{}",
         "name": "bottle_qty",
         "type": "\"long\""
        },
        {
         "metadata": "{}",
         "name": "total",
         "type": "\"double\""
        }
       ],
       "type": "table"
      }
     },
     "output_type": "display_data"
    }
   ],
   "source": [
    "%python\n",
    "sales_data_python_2.limit(10).display()"
   ]
  },
  {
   "cell_type": "markdown",
   "metadata": {
    "application/vnd.databricks.v1+cell": {
     "cellMetadata": {
      "byteLimit": 2048000,
      "rowLimit": 10000
     },
     "inputWidgets": {},
     "nuid": "da360ba2-059a-4298-84e4-29359cd941f1",
     "showTitle": false,
     "title": ""
    }
   },
   "source": [
    "#### Filtering the data"
   ]
  },
  {
   "cell_type": "code",
   "execution_count": 0,
   "metadata": {
    "application/vnd.databricks.v1+cell": {
     "cellMetadata": {
      "byteLimit": 2048000,
      "implicitDf": true,
      "rowLimit": 10000
     },
     "inputWidgets": {},
     "nuid": "87a59c3e-bf74-4e92-9fd6-e21e35433131",
     "showTitle": false,
     "title": ""
    }
   },
   "outputs": [
    {
     "output_type": "display_data",
     "data": {
      "text/html": [
       "<style scoped>\n",
       "  .table-result-container {\n",
       "    max-height: 300px;\n",
       "    overflow: auto;\n",
       "  }\n",
       "  table, th, td {\n",
       "    border: 1px solid black;\n",
       "    border-collapse: collapse;\n",
       "  }\n",
       "  th, td {\n",
       "    padding: 5px;\n",
       "  }\n",
       "  th {\n",
       "    text-align: left;\n",
       "  }\n",
       "</style><div class='table-result-container'><table class='table-result'><thead style='background-color: white'><tr><th>date</th><th>convenience_store</th><th>store</th><th>county_number</th><th>county</th><th>category</th><th>category_name</th><th>vendor_no</th><th>vendor</th><th>item</th><th>description</th><th>pack</th><th>liter_size</th><th>state_btl_cost</th><th>btl_price</th><th>bottle_qty</th><th>total</th></tr></thead><tbody><tr><td>24-02-2014 00:00</td><td>Y</td><td>4771</td><td>57</td><td>Linn</td><td>1012100</td><td>CANADIAN WHISKIES</td><td>260</td><td>Diageo Americas</td><td>11293</td><td>Crown Royal Canadian Whisky</td><td>48</td><td>200</td><td>4.71</td><td>7.07</td><td>48</td><td>339.36</td></tr><tr><td>21-04-2014 00:00</td><td>Y</td><td>4897</td><td>29</td><td>Des Moines</td><td>1031080</td><td>80 PROOF VODKA</td><td>380</td><td>Phillips Beverage Company</td><td>37348</td><td>Phillips Vodka</td><td>6</td><td>1750</td><td>7.6</td><td>11.4</td><td>6</td><td>68.4</td></tr><tr><td>29-10-2014 00:00</td><td>Y</td><td>4448</td><td>77</td><td>Polk</td><td>1031080</td><td>80 PROOF VODKA</td><td>260</td><td>Diageo Americas</td><td>37996</td><td>Smirnoff Vodka 80 Prf</td><td>12</td><td>750</td><td>8.25</td><td>12.38</td><td>12</td><td>148.56</td></tr><tr><td>26-08-2014 00:00</td><td>Y</td><td>4430</td><td>94</td><td>Webster</td><td>1062310</td><td>SPICED RUM</td><td>260</td><td>Diageo Americas</td><td>43336</td><td>Captain Morgan Original Spiced</td><td>12</td><td>750</td><td>9.0</td><td>13.5</td><td>12</td><td>162.0</td></tr><tr><td>12-03-2014 00:00</td><td>Y</td><td>4765</td><td>31</td><td>Dubuque</td><td>1012100</td><td>CANADIAN WHISKIES</td><td>115</td><td>Constellation Wine Company Inc.</td><td>11788</td><td>Black Velvet</td><td>6</td><td>1750</td><td>10.45</td><td>15.67</td><td>3</td><td>47.01</td></tr><tr><td>09-02-2015 00:00</td><td>Y</td><td>5001</td><td>10</td><td>Buchanan</td><td>1062310</td><td>SPICED RUM</td><td>260</td><td>Diageo Americas</td><td>43316</td><td>Captain Morgan Private Stock Rum</td><td>12</td><td>750</td><td>11.45</td><td>17.18</td><td>1</td><td>17.18</td></tr><tr><td>20-01-2014 00:00</td><td>Y</td><td>4626</td><td>78</td><td>Pottawattamie</td><td>1031080</td><td>80 PROOF VODKA</td><td>297</td><td>Laird And Company</td><td>35916</td><td>Five O'clock</td><td>12</td><td>750</td><td>3.37</td><td>5.06</td><td>24</td><td>121.44</td></tr><tr><td>19-06-2014 00:00</td><td>Y</td><td>4595</td><td>77</td><td>Polk</td><td>1012100</td><td>CANADIAN WHISKIES</td><td>115</td><td>Constellation Wine Company Inc.</td><td>11773</td><td>Black Velvet</td><td>48</td><td>200</td><td>1.56</td><td>2.34</td><td>48</td><td>112.32</td></tr><tr><td>07-07-2014 00:00</td><td>Y</td><td>4475</td><td>78</td><td>Pottawattamie</td><td>1012100</td><td>CANADIAN WHISKIES</td><td>260</td><td>Diageo Americas</td><td>11294</td><td>Crown Royal Canadian Whisky</td><td>24</td><td>375</td><td>7.75</td><td>11.63</td><td>12</td><td>139.56</td></tr><tr><td>28-04-2014 00:00</td><td>Y</td><td>4467</td><td>70</td><td>Muscatine</td><td>1062200</td><td>PUERTO RICO & VIRGIN ISLANDS RUM</td><td>35</td><td>Bacardi U.S.A. Inc.</td><td>43121</td><td>Bacardi Superior Rum Mini</td><td>12</td><td>500</td><td>5.54</td><td>8.31</td><td>1</td><td>8.31</td></tr><tr><td>30-01-2014 00:00</td><td>Y</td><td>4874</td><td>44</td><td>Henry</td><td>1011200</td><td>STRAIGHT BOURBON WHISKIES</td><td>65</td><td>Jim Beam Brands</td><td>19474</td><td>Maker's Mark</td><td>12</td><td>375</td><td>7.86</td><td>11.79</td><td>2</td><td>23.58</td></tr><tr><td>02-06-2014 00:00</td><td>Y</td><td>4984</td><td>70</td><td>Muscatine</td><td>1081390</td><td>IMPORTED SCHNAPPS</td><td>421</td><td>Sazerac Co. Inc.</td><td>69631</td><td>Dr. Mcgillicuddy's Cherry Mini</td><td>12</td><td>500</td><td>4.96</td><td>7.44</td><td>1</td><td>7.44</td></tr><tr><td>24-03-2014 00:00</td><td>Y</td><td>4955</td><td>17</td><td>Cerro Gordo</td><td>1031080</td><td>80 PROOF VODKA</td><td>297</td><td>Laird And Company</td><td>35918</td><td>Five O'clock</td><td>6</td><td>1750</td><td>7.2</td><td>10.79</td><td>6</td><td>64.74</td></tr><tr><td>07-01-2014 00:00</td><td>Y</td><td>4941</td><td>77</td><td>Polk</td><td>1062310</td><td>SPICED RUM</td><td>259</td><td>Heaven Hill Distilleries Inc.</td><td>43026</td><td>Admiral Nelson Spiced Rum</td><td>12</td><td>750</td><td>5.78</td><td>8.67</td><td>12</td><td>104.04</td></tr><tr><td>29-01-2015 00:00</td><td>Y</td><td>4638</td><td>82</td><td>Scott</td><td>1062310</td><td>SPICED RUM</td><td>260</td><td>Diageo Americas</td><td>43334</td><td>Captain Morgan Spiced Rum</td><td>24</td><td>375</td><td>5.0</td><td>7.5</td><td>24</td><td>180.0</td></tr><tr><td>02-06-2014 00:00</td><td>Y</td><td>4654</td><td>1</td><td>Adair</td><td>1031080</td><td>80 PROOF VODKA</td><td>260</td><td>Diageo Americas</td><td>37991</td><td>Smirnoff Vodka 80 Prf Mini</td><td>12</td><td>500</td><td>7.47</td><td>11.2</td><td>2</td><td>22.4</td></tr><tr><td>19-05-2014 00:00</td><td>Y</td><td>4892</td><td>82</td><td>Scott</td><td>1012100</td><td>CANADIAN WHISKIES</td><td>115</td><td>Constellation Wine Company Inc.</td><td>11776</td><td>Black Velvet</td><td>12</td><td>750</td><td>5.23</td><td>7.84</td><td>12</td><td>94.08</td></tr><tr><td>21-04-2014 00:00</td><td>Y</td><td>4654</td><td>1</td><td>Adair</td><td>1012100</td><td>CANADIAN WHISKIES</td><td>55</td><td>Sazerac North America</td><td>12404</td><td>Canadian Ltd Whisky</td><td>24</td><td>375</td><td>2.05</td><td>3.07</td><td>24</td><td>73.68</td></tr><tr><td>01-05-2014 00:00</td><td>Y</td><td>4686</td><td>23</td><td>Clinton</td><td>1012100</td><td>CANADIAN WHISKIES</td><td>260</td><td>Diageo Americas</td><td>10815</td><td>Crown Royal Maple Mini</td><td>10</td><td>300</td><td>6.9</td><td>10.35</td><td>1</td><td>10.35</td></tr><tr><td>10-07-2014 00:00</td><td>Y</td><td>4921</td><td>57</td><td>Linn</td><td>1011300</td><td>TENNESSEE WHISKIES</td><td>85</td><td>Brown-Forman Corporation</td><td>26823</td><td>Jack Daniels Old #7 Black Lbl</td><td>48</td><td>200</td><td>4.08</td><td>6.12</td><td>6</td><td>36.72</td></tr><tr><td>01-04-2014 00:00</td><td>Y</td><td>4925</td><td>77</td><td>Polk</td><td>1081600</td><td>WHISKEY LIQUEUR</td><td>85</td><td>Brown-Forman Corporation</td><td>86884</td><td>Southern Comfort</td><td>24</td><td>375</td><td>4.54</td><td>6.8</td><td>12</td><td>81.6</td></tr><tr><td>29-04-2014 00:00</td><td>Y</td><td>4774</td><td>32</td><td>Emmet</td><td>1062310</td><td>SPICED RUM</td><td>260</td><td>Diageo Americas</td><td>43285</td><td>Captain Morgan Original Spiced Rum Pet</td><td>12</td><td>750</td><td>8.75</td><td>13.12</td><td>12</td><td>157.44</td></tr><tr><td>21-10-2014 00:00</td><td>Y</td><td>4783</td><td>74</td><td>Palo Alto</td><td>1031200</td><td>FLAVORED VODKA</td><td>380</td><td>Phillips Beverage Company</td><td>41693</td><td>Uv Blue (raspberry) Vodka</td><td>12</td><td>750</td><td>6.5</td><td>9.75</td><td>12</td><td>117.0</td></tr><tr><td>25-09-2014 00:00</td><td>Y</td><td>4470</td><td>7</td><td>Black Hawk</td><td>1022100</td><td>TEQUILA</td><td>395</td><td>Proximo</td><td>89196</td><td>Jose Cuervo Especial Reposado Tequila</td><td>12</td><td>750</td><td>10.49</td><td>15.74</td><td>12</td><td>188.88</td></tr><tr><td>05-02-2014 00:00</td><td>Y</td><td>4976</td><td>97</td><td>Woodbury</td><td>1081390</td><td>IMPORTED SCHNAPPS</td><td>421</td><td>Sazerac Co. Inc.</td><td>69634</td><td>Dr. Mcgillicuddy's Cherry Schnapps</td><td>24</td><td>375</td><td>5.33</td><td>7.99</td><td>24</td><td>191.76</td></tr><tr><td>14-04-2014 00:00</td><td>Y</td><td>4626</td><td>78</td><td>Pottawattamie</td><td>1022100</td><td>TEQUILA</td><td>395</td><td>Proximo</td><td>89194</td><td>Jose Cuervo Especial Reposado Flask</td><td>24</td><td>375</td><td>5.5</td><td>8.25</td><td>12</td><td>99.0</td></tr><tr><td>24-07-2014 00:00</td><td>Y</td><td>4419</td><td>27</td><td>Decatur</td><td>1032080</td><td>IMPORTED VODKA</td><td>370</td><td>Pernod Ricard USA/Austin Nichols</td><td>34001</td><td>Absolut Swedish Vodka 80 Prf Mini</td><td>10</td><td>600</td><td>7.92</td><td>11.88</td><td>1</td><td>11.88</td></tr><tr><td>19-05-2014 00:00</td><td>Y</td><td>4376</td><td>17</td><td>Cerro Gordo</td><td>1031080</td><td>80 PROOF VODKA</td><td>260</td><td>Diageo Americas</td><td>37996</td><td>Smirnoff Vodka 80 Prf</td><td>12</td><td>750</td><td>8.25</td><td>12.37</td><td>12</td><td>148.44</td></tr><tr><td>10-03-2014 00:00</td><td>Y</td><td>4698</td><td>51</td><td>Jefferson</td><td>1031080</td><td>80 PROOF VODKA</td><td>297</td><td>Laird And Company</td><td>35914</td><td>Five O'clock</td><td>24</td><td>375</td><td>1.93</td><td>2.89</td><td>48</td><td>138.72</td></tr><tr><td>13-05-2014 00:00</td><td>Y</td><td>4819</td><td>77</td><td>Polk</td><td>1012100</td><td>CANADIAN WHISKIES</td><td>260</td><td>Diageo Americas</td><td>11296</td><td>Crown Royal</td><td>12</td><td>750</td><td>14.75</td><td>22.13</td><td>2</td><td>44.26</td></tr><tr><td>08-07-2014 00:00</td><td>Y</td><td>4451</td><td>40</td><td>Hamilton</td><td>1012100</td><td>CANADIAN WHISKIES</td><td>115</td><td>Constellation Wine Company Inc.</td><td>11776</td><td>Black Velvet</td><td>12</td><td>750</td><td>5.23</td><td>7.85</td><td>24</td><td>188.4</td></tr><tr><td>26-03-2014 00:00</td><td>Y</td><td>4819</td><td>77</td><td>Polk</td><td>1081380</td><td>MISCELLANEOUS SCHNAPPS</td><td>55</td><td>Sazerac North America</td><td>84166</td><td>99 Blackberries</td><td>12</td><td>750</td><td>9.5</td><td>14.25</td><td>2</td><td>28.5</td></tr><tr><td>21-01-2014 00:00</td><td>Y</td><td>4757</td><td>77</td><td>Polk</td><td>1031080</td><td>80 PROOF VODKA</td><td>300</td><td>Mccormick Distilling Company</td><td>36886</td><td>Mccormick Vodka</td><td>12</td><td>750</td><td>3.31</td><td>4.97</td><td>3</td><td>14.91</td></tr><tr><td>22-05-2014 00:00</td><td>Y</td><td>4622</td><td>77</td><td>Polk</td><td>1062310</td><td>SPICED RUM</td><td>260</td><td>Diageo Americas</td><td>43331</td><td>Captain Morgan Spiced Rum Mini</td><td>12</td><td>500</td><td>5.5</td><td>8.25</td><td>2</td><td>16.5</td></tr><tr><td>29-07-2014 00:00</td><td>Y</td><td>4446</td><td>77</td><td>Polk</td><td>1011200</td><td>STRAIGHT BOURBON WHISKIES</td><td>65</td><td>Jim Beam Brands</td><td>19061</td><td>Jim Beam Mini</td><td>12</td><td>500</td><td>6.83</td><td>10.25</td><td>1</td><td>10.25</td></tr><tr><td>12-03-2014 00:00</td><td>Y</td><td>4596</td><td>77</td><td>Polk</td><td>1031080</td><td>80 PROOF VODKA</td><td>300</td><td>Mccormick Distilling Company</td><td>36904</td><td>Mccormick Vodka Pet</td><td>24</td><td>375</td><td>1.8</td><td>2.69</td><td>24</td><td>64.56</td></tr><tr><td>09-04-2014 00:00</td><td>Y</td><td>4694</td><td>82</td><td>Scott</td><td>1032080</td><td>IMPORTED VODKA</td><td>370</td><td>Pernod Ricard USA/Austin Nichols</td><td>34004</td><td>Absolut Swedish Vodka 80 Prf</td><td>24</td><td>375</td><td>6.5</td><td>9.74</td><td>3</td><td>29.22</td></tr><tr><td>14-07-2014 00:00</td><td>Y</td><td>4633</td><td>78</td><td>Pottawattamie</td><td>1051010</td><td>AMERICAN GRAPE BRANDIES</td><td>205</td><td>E AND J GALLO WINERY</td><td>52596</td><td>E & J Vs</td><td>12</td><td>750</td><td>5.92</td><td>8.88</td><td>12</td><td>106.56</td></tr><tr><td>19-05-2014 00:00</td><td>Y</td><td>4608</td><td>78</td><td>Pottawattamie</td><td>1031080</td><td>80 PROOF VODKA</td><td>300</td><td>Mccormick Distilling Company</td><td>36904</td><td>Mccormick Vodka Pet</td><td>24</td><td>375</td><td>1.8</td><td>2.69</td><td>48</td><td>129.12</td></tr><tr><td>03-02-2014 00:00</td><td>Y</td><td>4698</td><td>51</td><td>Jefferson</td><td>1011500</td><td>STRAIGHT RYE WHISKIES</td><td>255</td><td>Wilson Daniels Ltd.</td><td>27102</td><td>Templeton Rye</td><td>6</td><td>750</td><td>18.09</td><td>27.14</td><td>6</td><td>162.84</td></tr><tr><td>23-05-2014 00:00</td><td>Y</td><td>4619</td><td>56</td><td>Lee</td><td>1011100</td><td>BLENDED WHISKIES</td><td>65</td><td>Jim Beam Brands</td><td>24456</td><td>Kessler Blend Whiskey</td><td>12</td><td>750</td><td>5.51</td><td>8.26</td><td>2</td><td>16.52</td></tr><tr><td>05-01-2015 00:00</td><td>Y</td><td>4491</td><td>57</td><td>Linn</td><td>1031080</td><td>80 PROOF VODKA</td><td>434</td><td>Luxco-St Louis</td><td>36306</td><td>Hawkeye Vodka</td><td>12</td><td>750</td><td>3.34</td><td>5.01</td><td>12</td><td>60.12</td></tr><tr><td>06-03-2014 00:00</td><td>Y</td><td>4825</td><td>20</td><td>Clarke</td><td>1081200</td><td>CREAM LIQUEURS</td><td>260</td><td>Diageo Americas</td><td>68036</td><td>Bailey's Original Irish Cream</td><td>12</td><td>750</td><td>13.0</td><td>19.49</td><td>12</td><td>233.88</td></tr><tr><td>07-08-2014 00:00</td><td>Y</td><td>4368</td><td>77</td><td>Polk</td><td>1031200</td><td>FLAVORED VODKA</td><td>380</td><td>Phillips Beverage Company</td><td>41693</td><td>Uv Blue (raspberry) Vodka</td><td>12</td><td>750</td><td>6.25</td><td>9.5</td><td>3</td><td>28.5</td></tr><tr><td>13-01-2014 00:00</td><td>Y</td><td>4543</td><td>57</td><td>Linn</td><td>1062310</td><td>SPICED RUM</td><td>260</td><td>Diageo Americas</td><td>43334</td><td>Captain Morgan Spiced Rum</td><td>24</td><td>375</td><td>5.0</td><td>7.5</td><td>24</td><td>180.0</td></tr><tr><td>25-02-2014 00:00</td><td>Y</td><td>4757</td><td>77</td><td>Polk</td><td>1031100</td><td>100 PROOF VODKA</td><td>260</td><td>Diageo Americas</td><td>39866</td><td>Smirnoff Vodka 100 Prf</td><td>12</td><td>750</td><td>8.75</td><td>13.13</td><td>1</td><td>13.13</td></tr><tr><td>08-04-2014 00:00</td><td>Y</td><td>4384</td><td>25</td><td>Dallas</td><td>1081300</td><td>PEPPERMINT SCHNAPPS</td><td>434</td><td>Luxco-St Louis</td><td>81206</td><td>Paramount Peppermint Schnapps</td><td>12</td><td>750</td><td>3.71</td><td>5.57</td><td>12</td><td>66.84</td></tr><tr><td>12-05-2014 00:00</td><td>Y</td><td>4518</td><td>77</td><td>Polk</td><td>1011300</td><td>TENNESSEE WHISKIES</td><td>85</td><td>Brown-Forman Corporation</td><td>26826</td><td>Jack Daniels Old #7 Black Lbl</td><td>12</td><td>750</td><td>14.53</td><td>21.8</td><td>12</td><td>261.6</td></tr><tr><td>26-02-2014 00:00</td><td>Y</td><td>4914</td><td>7</td><td>Black Hawk</td><td>1081600</td><td>WHISKEY LIQUEUR</td><td>421</td><td>Sazerac Co. Inc.</td><td>64857</td><td>Fireball Cinnamon Whisky</td><td>12</td><td>375</td><td>5.33</td><td>8.0</td><td>12</td><td>96.0</td></tr><tr><td>25-03-2014 00:00</td><td>Y</td><td>4378</td><td>25</td><td>Dallas</td><td>1012100</td><td>CANADIAN WHISKIES</td><td>115</td><td>Constellation Wine Company Inc.</td><td>11776</td><td>Black Velvet</td><td>12</td><td>750</td><td>5.23</td><td>7.84</td><td>12</td><td>94.08</td></tr></tbody></table></div>"
      ]
     },
     "metadata": {
      "application/vnd.databricks.v1+output": {
       "addedWidgets": {},
       "aggData": [],
       "aggError": "",
       "aggOverflow": false,
       "aggSchema": [],
       "aggSeriesLimitReached": false,
       "aggType": "",
       "arguments": {},
       "columnCustomDisplayInfos": {},
       "data": [
        [
         "24-02-2014 00:00",
         "Y",
         "4771",
         "57",
         "Linn",
         "1012100",
         "CANADIAN WHISKIES",
         "260",
         "Diageo Americas",
         "11293",
         "Crown Royal Canadian Whisky",
         48,
         200,
         4.71,
         7.07,
         48,
         339.36
        ],
        [
         "21-04-2014 00:00",
         "Y",
         "4897",
         "29",
         "Des Moines",
         "1031080",
         "80 PROOF VODKA",
         "380",
         "Phillips Beverage Company",
         "37348",
         "Phillips Vodka",
         6,
         1750,
         7.6,
         11.4,
         6,
         68.4
        ],
        [
         "29-10-2014 00:00",
         "Y",
         "4448",
         "77",
         "Polk",
         "1031080",
         "80 PROOF VODKA",
         "260",
         "Diageo Americas",
         "37996",
         "Smirnoff Vodka 80 Prf",
         12,
         750,
         8.25,
         12.38,
         12,
         148.56
        ],
        [
         "26-08-2014 00:00",
         "Y",
         "4430",
         "94",
         "Webster",
         "1062310",
         "SPICED RUM",
         "260",
         "Diageo Americas",
         "43336",
         "Captain Morgan Original Spiced",
         12,
         750,
         9.0,
         13.5,
         12,
         162.0
        ],
        [
         "12-03-2014 00:00",
         "Y",
         "4765",
         "31",
         "Dubuque",
         "1012100",
         "CANADIAN WHISKIES",
         "115",
         "Constellation Wine Company Inc.",
         "11788",
         "Black Velvet",
         6,
         1750,
         10.45,
         15.67,
         3,
         47.01
        ],
        [
         "09-02-2015 00:00",
         "Y",
         "5001",
         "10",
         "Buchanan",
         "1062310",
         "SPICED RUM",
         "260",
         "Diageo Americas",
         "43316",
         "Captain Morgan Private Stock Rum",
         12,
         750,
         11.45,
         17.18,
         1,
         17.18
        ],
        [
         "20-01-2014 00:00",
         "Y",
         "4626",
         "78",
         "Pottawattamie",
         "1031080",
         "80 PROOF VODKA",
         "297",
         "Laird And Company",
         "35916",
         "Five O'clock",
         12,
         750,
         3.37,
         5.06,
         24,
         121.44
        ],
        [
         "19-06-2014 00:00",
         "Y",
         "4595",
         "77",
         "Polk",
         "1012100",
         "CANADIAN WHISKIES",
         "115",
         "Constellation Wine Company Inc.",
         "11773",
         "Black Velvet",
         48,
         200,
         1.56,
         2.34,
         48,
         112.32
        ],
        [
         "07-07-2014 00:00",
         "Y",
         "4475",
         "78",
         "Pottawattamie",
         "1012100",
         "CANADIAN WHISKIES",
         "260",
         "Diageo Americas",
         "11294",
         "Crown Royal Canadian Whisky",
         24,
         375,
         7.75,
         11.63,
         12,
         139.56
        ],
        [
         "28-04-2014 00:00",
         "Y",
         "4467",
         "70",
         "Muscatine",
         "1062200",
         "PUERTO RICO & VIRGIN ISLANDS RUM",
         "35",
         "Bacardi U.S.A. Inc.",
         "43121",
         "Bacardi Superior Rum Mini",
         12,
         500,
         5.54,
         8.31,
         1,
         8.31
        ],
        [
         "30-01-2014 00:00",
         "Y",
         "4874",
         "44",
         "Henry",
         "1011200",
         "STRAIGHT BOURBON WHISKIES",
         "65",
         "Jim Beam Brands",
         "19474",
         "Maker's Mark",
         12,
         375,
         7.86,
         11.79,
         2,
         23.58
        ],
        [
         "02-06-2014 00:00",
         "Y",
         "4984",
         "70",
         "Muscatine",
         "1081390",
         "IMPORTED SCHNAPPS",
         "421",
         "Sazerac Co. Inc.",
         "69631",
         "Dr. Mcgillicuddy's Cherry Mini",
         12,
         500,
         4.96,
         7.44,
         1,
         7.44
        ],
        [
         "24-03-2014 00:00",
         "Y",
         "4955",
         "17",
         "Cerro Gordo",
         "1031080",
         "80 PROOF VODKA",
         "297",
         "Laird And Company",
         "35918",
         "Five O'clock",
         6,
         1750,
         7.2,
         10.79,
         6,
         64.74
        ],
        [
         "07-01-2014 00:00",
         "Y",
         "4941",
         "77",
         "Polk",
         "1062310",
         "SPICED RUM",
         "259",
         "Heaven Hill Distilleries Inc.",
         "43026",
         "Admiral Nelson Spiced Rum",
         12,
         750,
         5.78,
         8.67,
         12,
         104.04
        ],
        [
         "29-01-2015 00:00",
         "Y",
         "4638",
         "82",
         "Scott",
         "1062310",
         "SPICED RUM",
         "260",
         "Diageo Americas",
         "43334",
         "Captain Morgan Spiced Rum",
         24,
         375,
         5.0,
         7.5,
         24,
         180.0
        ],
        [
         "02-06-2014 00:00",
         "Y",
         "4654",
         "1",
         "Adair",
         "1031080",
         "80 PROOF VODKA",
         "260",
         "Diageo Americas",
         "37991",
         "Smirnoff Vodka 80 Prf Mini",
         12,
         500,
         7.47,
         11.2,
         2,
         22.4
        ],
        [
         "19-05-2014 00:00",
         "Y",
         "4892",
         "82",
         "Scott",
         "1012100",
         "CANADIAN WHISKIES",
         "115",
         "Constellation Wine Company Inc.",
         "11776",
         "Black Velvet",
         12,
         750,
         5.23,
         7.84,
         12,
         94.08
        ],
        [
         "21-04-2014 00:00",
         "Y",
         "4654",
         "1",
         "Adair",
         "1012100",
         "CANADIAN WHISKIES",
         "55",
         "Sazerac North America",
         "12404",
         "Canadian Ltd Whisky",
         24,
         375,
         2.05,
         3.07,
         24,
         73.68
        ],
        [
         "01-05-2014 00:00",
         "Y",
         "4686",
         "23",
         "Clinton",
         "1012100",
         "CANADIAN WHISKIES",
         "260",
         "Diageo Americas",
         "10815",
         "Crown Royal Maple Mini",
         10,
         300,
         6.9,
         10.35,
         1,
         10.35
        ],
        [
         "10-07-2014 00:00",
         "Y",
         "4921",
         "57",
         "Linn",
         "1011300",
         "TENNESSEE WHISKIES",
         "85",
         "Brown-Forman Corporation",
         "26823",
         "Jack Daniels Old #7 Black Lbl",
         48,
         200,
         4.08,
         6.12,
         6,
         36.72
        ],
        [
         "01-04-2014 00:00",
         "Y",
         "4925",
         "77",
         "Polk",
         "1081600",
         "WHISKEY LIQUEUR",
         "85",
         "Brown-Forman Corporation",
         "86884",
         "Southern Comfort",
         24,
         375,
         4.54,
         6.8,
         12,
         81.6
        ],
        [
         "29-04-2014 00:00",
         "Y",
         "4774",
         "32",
         "Emmet",
         "1062310",
         "SPICED RUM",
         "260",
         "Diageo Americas",
         "43285",
         "Captain Morgan Original Spiced Rum Pet",
         12,
         750,
         8.75,
         13.12,
         12,
         157.44
        ],
        [
         "21-10-2014 00:00",
         "Y",
         "4783",
         "74",
         "Palo Alto",
         "1031200",
         "FLAVORED VODKA",
         "380",
         "Phillips Beverage Company",
         "41693",
         "Uv Blue (raspberry) Vodka",
         12,
         750,
         6.5,
         9.75,
         12,
         117.0
        ],
        [
         "25-09-2014 00:00",
         "Y",
         "4470",
         "7",
         "Black Hawk",
         "1022100",
         "TEQUILA",
         "395",
         "Proximo",
         "89196",
         "Jose Cuervo Especial Reposado Tequila",
         12,
         750,
         10.49,
         15.74,
         12,
         188.88
        ],
        [
         "05-02-2014 00:00",
         "Y",
         "4976",
         "97",
         "Woodbury",
         "1081390",
         "IMPORTED SCHNAPPS",
         "421",
         "Sazerac Co. Inc.",
         "69634",
         "Dr. Mcgillicuddy's Cherry Schnapps",
         24,
         375,
         5.33,
         7.99,
         24,
         191.76
        ],
        [
         "14-04-2014 00:00",
         "Y",
         "4626",
         "78",
         "Pottawattamie",
         "1022100",
         "TEQUILA",
         "395",
         "Proximo",
         "89194",
         "Jose Cuervo Especial Reposado Flask",
         24,
         375,
         5.5,
         8.25,
         12,
         99.0
        ],
        [
         "24-07-2014 00:00",
         "Y",
         "4419",
         "27",
         "Decatur",
         "1032080",
         "IMPORTED VODKA",
         "370",
         "Pernod Ricard USA/Austin Nichols",
         "34001",
         "Absolut Swedish Vodka 80 Prf Mini",
         10,
         600,
         7.92,
         11.88,
         1,
         11.88
        ],
        [
         "19-05-2014 00:00",
         "Y",
         "4376",
         "17",
         "Cerro Gordo",
         "1031080",
         "80 PROOF VODKA",
         "260",
         "Diageo Americas",
         "37996",
         "Smirnoff Vodka 80 Prf",
         12,
         750,
         8.25,
         12.37,
         12,
         148.44
        ],
        [
         "10-03-2014 00:00",
         "Y",
         "4698",
         "51",
         "Jefferson",
         "1031080",
         "80 PROOF VODKA",
         "297",
         "Laird And Company",
         "35914",
         "Five O'clock",
         24,
         375,
         1.93,
         2.89,
         48,
         138.72
        ],
        [
         "13-05-2014 00:00",
         "Y",
         "4819",
         "77",
         "Polk",
         "1012100",
         "CANADIAN WHISKIES",
         "260",
         "Diageo Americas",
         "11296",
         "Crown Royal",
         12,
         750,
         14.75,
         22.13,
         2,
         44.26
        ],
        [
         "08-07-2014 00:00",
         "Y",
         "4451",
         "40",
         "Hamilton",
         "1012100",
         "CANADIAN WHISKIES",
         "115",
         "Constellation Wine Company Inc.",
         "11776",
         "Black Velvet",
         12,
         750,
         5.23,
         7.85,
         24,
         188.4
        ],
        [
         "26-03-2014 00:00",
         "Y",
         "4819",
         "77",
         "Polk",
         "1081380",
         "MISCELLANEOUS SCHNAPPS",
         "55",
         "Sazerac North America",
         "84166",
         "99 Blackberries",
         12,
         750,
         9.5,
         14.25,
         2,
         28.5
        ],
        [
         "21-01-2014 00:00",
         "Y",
         "4757",
         "77",
         "Polk",
         "1031080",
         "80 PROOF VODKA",
         "300",
         "Mccormick Distilling Company",
         "36886",
         "Mccormick Vodka",
         12,
         750,
         3.31,
         4.97,
         3,
         14.91
        ],
        [
         "22-05-2014 00:00",
         "Y",
         "4622",
         "77",
         "Polk",
         "1062310",
         "SPICED RUM",
         "260",
         "Diageo Americas",
         "43331",
         "Captain Morgan Spiced Rum Mini",
         12,
         500,
         5.5,
         8.25,
         2,
         16.5
        ],
        [
         "29-07-2014 00:00",
         "Y",
         "4446",
         "77",
         "Polk",
         "1011200",
         "STRAIGHT BOURBON WHISKIES",
         "65",
         "Jim Beam Brands",
         "19061",
         "Jim Beam Mini",
         12,
         500,
         6.83,
         10.25,
         1,
         10.25
        ],
        [
         "12-03-2014 00:00",
         "Y",
         "4596",
         "77",
         "Polk",
         "1031080",
         "80 PROOF VODKA",
         "300",
         "Mccormick Distilling Company",
         "36904",
         "Mccormick Vodka Pet",
         24,
         375,
         1.8,
         2.69,
         24,
         64.56
        ],
        [
         "09-04-2014 00:00",
         "Y",
         "4694",
         "82",
         "Scott",
         "1032080",
         "IMPORTED VODKA",
         "370",
         "Pernod Ricard USA/Austin Nichols",
         "34004",
         "Absolut Swedish Vodka 80 Prf",
         24,
         375,
         6.5,
         9.74,
         3,
         29.22
        ],
        [
         "14-07-2014 00:00",
         "Y",
         "4633",
         "78",
         "Pottawattamie",
         "1051010",
         "AMERICAN GRAPE BRANDIES",
         "205",
         "E AND J GALLO WINERY",
         "52596",
         "E & J Vs",
         12,
         750,
         5.92,
         8.88,
         12,
         106.56
        ],
        [
         "19-05-2014 00:00",
         "Y",
         "4608",
         "78",
         "Pottawattamie",
         "1031080",
         "80 PROOF VODKA",
         "300",
         "Mccormick Distilling Company",
         "36904",
         "Mccormick Vodka Pet",
         24,
         375,
         1.8,
         2.69,
         48,
         129.12
        ],
        [
         "03-02-2014 00:00",
         "Y",
         "4698",
         "51",
         "Jefferson",
         "1011500",
         "STRAIGHT RYE WHISKIES",
         "255",
         "Wilson Daniels Ltd.",
         "27102",
         "Templeton Rye",
         6,
         750,
         18.09,
         27.14,
         6,
         162.84
        ],
        [
         "23-05-2014 00:00",
         "Y",
         "4619",
         "56",
         "Lee",
         "1011100",
         "BLENDED WHISKIES",
         "65",
         "Jim Beam Brands",
         "24456",
         "Kessler Blend Whiskey",
         12,
         750,
         5.51,
         8.26,
         2,
         16.52
        ],
        [
         "05-01-2015 00:00",
         "Y",
         "4491",
         "57",
         "Linn",
         "1031080",
         "80 PROOF VODKA",
         "434",
         "Luxco-St Louis",
         "36306",
         "Hawkeye Vodka",
         12,
         750,
         3.34,
         5.01,
         12,
         60.12
        ],
        [
         "06-03-2014 00:00",
         "Y",
         "4825",
         "20",
         "Clarke",
         "1081200",
         "CREAM LIQUEURS",
         "260",
         "Diageo Americas",
         "68036",
         "Bailey's Original Irish Cream",
         12,
         750,
         13.0,
         19.49,
         12,
         233.88
        ],
        [
         "07-08-2014 00:00",
         "Y",
         "4368",
         "77",
         "Polk",
         "1031200",
         "FLAVORED VODKA",
         "380",
         "Phillips Beverage Company",
         "41693",
         "Uv Blue (raspberry) Vodka",
         12,
         750,
         6.25,
         9.5,
         3,
         28.5
        ],
        [
         "13-01-2014 00:00",
         "Y",
         "4543",
         "57",
         "Linn",
         "1062310",
         "SPICED RUM",
         "260",
         "Diageo Americas",
         "43334",
         "Captain Morgan Spiced Rum",
         24,
         375,
         5.0,
         7.5,
         24,
         180.0
        ],
        [
         "25-02-2014 00:00",
         "Y",
         "4757",
         "77",
         "Polk",
         "1031100",
         "100 PROOF VODKA",
         "260",
         "Diageo Americas",
         "39866",
         "Smirnoff Vodka 100 Prf",
         12,
         750,
         8.75,
         13.13,
         1,
         13.13
        ],
        [
         "08-04-2014 00:00",
         "Y",
         "4384",
         "25",
         "Dallas",
         "1081300",
         "PEPPERMINT SCHNAPPS",
         "434",
         "Luxco-St Louis",
         "81206",
         "Paramount Peppermint Schnapps",
         12,
         750,
         3.71,
         5.57,
         12,
         66.84
        ],
        [
         "12-05-2014 00:00",
         "Y",
         "4518",
         "77",
         "Polk",
         "1011300",
         "TENNESSEE WHISKIES",
         "85",
         "Brown-Forman Corporation",
         "26826",
         "Jack Daniels Old #7 Black Lbl",
         12,
         750,
         14.53,
         21.8,
         12,
         261.6
        ],
        [
         "26-02-2014 00:00",
         "Y",
         "4914",
         "7",
         "Black Hawk",
         "1081600",
         "WHISKEY LIQUEUR",
         "421",
         "Sazerac Co. Inc.",
         "64857",
         "Fireball Cinnamon Whisky",
         12,
         375,
         5.33,
         8.0,
         12,
         96.0
        ],
        [
         "25-03-2014 00:00",
         "Y",
         "4378",
         "25",
         "Dallas",
         "1012100",
         "CANADIAN WHISKIES",
         "115",
         "Constellation Wine Company Inc.",
         "11776",
         "Black Velvet",
         12,
         750,
         5.23,
         7.84,
         12,
         94.08
        ]
       ],
       "datasetInfos": [],
       "dbfsResultPath": null,
       "isJsonSchema": true,
       "metadata": {},
       "overflow": false,
       "plotOptions": {
        "customPlotOptions": {},
        "displayType": "table",
        "pivotAggregation": null,
        "pivotColumns": null,
        "xColumns": null,
        "yColumns": null
       },
       "removedWidgets": [],
       "schema": [
        {
         "metadata": "{}",
         "name": "date",
         "type": "\"string\""
        },
        {
         "metadata": "{}",
         "name": "convenience_store",
         "type": "\"string\""
        },
        {
         "metadata": "{}",
         "name": "store",
         "type": "\"string\""
        },
        {
         "metadata": "{}",
         "name": "county_number",
         "type": "\"string\""
        },
        {
         "metadata": "{}",
         "name": "county",
         "type": "\"string\""
        },
        {
         "metadata": "{}",
         "name": "category",
         "type": "\"string\""
        },
        {
         "metadata": "{}",
         "name": "category_name",
         "type": "\"string\""
        },
        {
         "metadata": "{}",
         "name": "vendor_no",
         "type": "\"string\""
        },
        {
         "metadata": "{}",
         "name": "vendor",
         "type": "\"string\""
        },
        {
         "metadata": "{}",
         "name": "item",
         "type": "\"string\""
        },
        {
         "metadata": "{}",
         "name": "description",
         "type": "\"string\""
        },
        {
         "metadata": "{}",
         "name": "pack",
         "type": "\"long\""
        },
        {
         "metadata": "{}",
         "name": "liter_size",
         "type": "\"long\""
        },
        {
         "metadata": "{}",
         "name": "state_btl_cost",
         "type": "\"double\""
        },
        {
         "metadata": "{}",
         "name": "btl_price",
         "type": "\"double\""
        },
        {
         "metadata": "{}",
         "name": "bottle_qty",
         "type": "\"long\""
        },
        {
         "metadata": "{}",
         "name": "total",
         "type": "\"double\""
        }
       ],
       "type": "table"
      }
     },
     "output_type": "display_data"
    }
   ],
   "source": [
    "%sql\n",
    "select * from `hive_metastore`.`default`.`sales_data_0203` where convenience_store = 'Y' limit 50"
   ]
  },
  {
   "cell_type": "code",
   "execution_count": 0,
   "metadata": {
    "application/vnd.databricks.v1+cell": {
     "cellMetadata": {
      "byteLimit": 2048000,
      "rowLimit": 10000
     },
     "inputWidgets": {},
     "nuid": "477773c6-95d3-490c-bb54-6ec59b7a8f1f",
     "showTitle": false,
     "title": ""
    }
   },
   "outputs": [
    {
     "output_type": "stream",
     "name": "stdout",
     "output_type": "stream",
     "text": [
      "+----------------+-----------------+-----+-------------+-------------+--------+--------------------+---------+--------------------+-----+--------------------+----+----------+--------------+---------+----------+------+\n|            date|convenience_store|store|county_number|       county|category|       category_name|vendor_no|              vendor| item|         description|pack|liter_size|state_btl_cost|btl_price|bottle_qty| total|\n+----------------+-----------------+-----+-------------+-------------+--------+--------------------+---------+--------------------+-----+--------------------+----+----------+--------------+---------+----------+------+\n|24-02-2014 00:00|                Y| 4771|           57|         Linn| 1012100|   CANADIAN WHISKIES|      260|     Diageo Americas|11293|Crown Royal Canad...|  48|       200|          4.71|     7.07|        48|339.36|\n|21-04-2014 00:00|                Y| 4897|           29|   Des Moines| 1031080|      80 PROOF VODKA|      380|Phillips Beverage...|37348|      Phillips Vodka|   6|      1750|           7.6|     11.4|         6|  68.4|\n|29-10-2014 00:00|                Y| 4448|           77|         Polk| 1031080|      80 PROOF VODKA|      260|     Diageo Americas|37996|Smirnoff Vodka 80...|  12|       750|          8.25|    12.38|        12|148.56|\n|26-08-2014 00:00|                Y| 4430|           94|      Webster| 1062310|          SPICED RUM|      260|     Diageo Americas|43336|Captain Morgan Or...|  12|       750|           9.0|     13.5|        12| 162.0|\n|12-03-2014 00:00|                Y| 4765|           31|      Dubuque| 1012100|   CANADIAN WHISKIES|      115|Constellation Win...|11788|        Black Velvet|   6|      1750|         10.45|    15.67|         3| 47.01|\n|09-02-2015 00:00|                Y| 5001|           10|     Buchanan| 1062310|          SPICED RUM|      260|     Diageo Americas|43316|Captain Morgan Pr...|  12|       750|         11.45|    17.18|         1| 17.18|\n|20-01-2014 00:00|                Y| 4626|           78|Pottawattamie| 1031080|      80 PROOF VODKA|      297|   Laird And Company|35916|        Five O'clock|  12|       750|          3.37|     5.06|        24|121.44|\n|19-06-2014 00:00|                Y| 4595|           77|         Polk| 1012100|   CANADIAN WHISKIES|      115|Constellation Win...|11773|        Black Velvet|  48|       200|          1.56|     2.34|        48|112.32|\n|07-07-2014 00:00|                Y| 4475|           78|Pottawattamie| 1012100|   CANADIAN WHISKIES|      260|     Diageo Americas|11294|Crown Royal Canad...|  24|       375|          7.75|    11.63|        12|139.56|\n|28-04-2014 00:00|                Y| 4467|           70|    Muscatine| 1062200|PUERTO RICO & VIR...|       35| Bacardi U.S.A. Inc.|43121|Bacardi Superior ...|  12|       500|          5.54|     8.31|         1|  8.31|\n|30-01-2014 00:00|                Y| 4874|           44|        Henry| 1011200|STRAIGHT BOURBON ...|       65|     Jim Beam Brands|19474|        Maker's Mark|  12|       375|          7.86|    11.79|         2| 23.58|\n|02-06-2014 00:00|                Y| 4984|           70|    Muscatine| 1081390|   IMPORTED SCHNAPPS|      421|    Sazerac Co. Inc.|69631|Dr. Mcgillicuddy'...|  12|       500|          4.96|     7.44|         1|  7.44|\n|24-03-2014 00:00|                Y| 4955|           17|  Cerro Gordo| 1031080|      80 PROOF VODKA|      297|   Laird And Company|35918|        Five O'clock|   6|      1750|           7.2|    10.79|         6| 64.74|\n|07-01-2014 00:00|                Y| 4941|           77|         Polk| 1062310|          SPICED RUM|      259|Heaven Hill Disti...|43026|Admiral Nelson Sp...|  12|       750|          5.78|     8.67|        12|104.04|\n|29-01-2015 00:00|                Y| 4638|           82|        Scott| 1062310|          SPICED RUM|      260|     Diageo Americas|43334|Captain Morgan Sp...|  24|       375|           5.0|      7.5|        24| 180.0|\n|02-06-2014 00:00|                Y| 4654|            1|        Adair| 1031080|      80 PROOF VODKA|      260|     Diageo Americas|37991|Smirnoff Vodka 80...|  12|       500|          7.47|     11.2|         2|  22.4|\n|19-05-2014 00:00|                Y| 4892|           82|        Scott| 1012100|   CANADIAN WHISKIES|      115|Constellation Win...|11776|        Black Velvet|  12|       750|          5.23|     7.84|        12| 94.08|\n|21-04-2014 00:00|                Y| 4654|            1|        Adair| 1012100|   CANADIAN WHISKIES|       55|Sazerac North Ame...|12404| Canadian Ltd Whisky|  24|       375|          2.05|     3.07|        24| 73.68|\n|01-05-2014 00:00|                Y| 4686|           23|      Clinton| 1012100|   CANADIAN WHISKIES|      260|     Diageo Americas|10815|Crown Royal Maple...|  10|       300|           6.9|    10.35|         1| 10.35|\n|10-07-2014 00:00|                Y| 4921|           57|         Linn| 1011300|  TENNESSEE WHISKIES|       85|Brown-Forman Corp...|26823|Jack Daniels Old ...|  48|       200|          4.08|     6.12|         6| 36.72|\n+----------------+-----------------+-----+-------------+-------------+--------+--------------------+---------+--------------------+-----+--------------------+----+----------+--------------+---------+----------+------+\nonly showing top 20 rows\n\n"
     ]
    }
   ],
   "source": [
    "%python\n",
    "sales_data_python_2.filter(\"convenience_store == 'Y'\").show()"
   ]
  },
  {
   "cell_type": "code",
   "execution_count": 0,
   "metadata": {
    "application/vnd.databricks.v1+cell": {
     "cellMetadata": {
      "byteLimit": 2048000,
      "implicitDf": true,
      "rowLimit": 10000
     },
     "inputWidgets": {},
     "nuid": "45635303-d869-492a-b3c9-1f2d65e7a017",
     "showTitle": false,
     "title": ""
    }
   },
   "outputs": [
    {
     "output_type": "display_data",
     "data": {
      "text/html": [
       "<style scoped>\n",
       "  .table-result-container {\n",
       "    max-height: 300px;\n",
       "    overflow: auto;\n",
       "  }\n",
       "  table, th, td {\n",
       "    border: 1px solid black;\n",
       "    border-collapse: collapse;\n",
       "  }\n",
       "  th, td {\n",
       "    padding: 5px;\n",
       "  }\n",
       "  th {\n",
       "    text-align: left;\n",
       "  }\n",
       "</style><div class='table-result-container'><table class='table-result'><thead style='background-color: white'><tr><th>date</th><th>convenience_store</th><th>store</th><th>county_number</th><th>county</th><th>category</th><th>category_name</th><th>vendor_no</th><th>vendor</th><th>item</th><th>description</th><th>pack</th><th>liter_size</th><th>state_btl_cost</th><th>btl_price</th><th>bottle_qty</th><th>total</th></tr></thead><tbody><tr><td>21-04-2014 00:00</td><td>Y</td><td>4897</td><td>29</td><td>Des Moines</td><td>1031080</td><td>80 PROOF VODKA</td><td>380</td><td>Phillips Beverage Company</td><td>37348</td><td>Phillips Vodka</td><td>6</td><td>1750</td><td>7.6</td><td>11.4</td><td>6</td><td>68.4</td></tr><tr><td>14-04-2014 00:00</td><td>Y</td><td>4857</td><td>29</td><td>Des Moines</td><td>1062310</td><td>SPICED RUM</td><td>260</td><td>Diageo Americas</td><td>43334</td><td>Captain Morgan Spiced Rum</td><td>24</td><td>375</td><td>5.0</td><td>7.5</td><td>3</td><td>22.5</td></tr><tr><td>17-03-2014 00:00</td><td>Y</td><td>4752</td><td>29</td><td>Des Moines</td><td>1032200</td><td>IMPORTED VODKA - MISC</td><td>260</td><td>Diageo Americas</td><td>64750</td><td>Ciroc Coconut</td><td>12</td><td>750</td><td>18.75</td><td>28.12</td><td>12</td><td>337.44</td></tr><tr><td>15-09-2014 00:00</td><td>Y</td><td>4752</td><td>29</td><td>Des Moines</td><td>1032080</td><td>IMPORTED VODKA</td><td>35</td><td>Bacardi U.S.A. Inc.</td><td>34423</td><td>Grey Goose Vodka</td><td>12</td><td>375</td><td>9.0</td><td>13.5</td><td>12</td><td>162.0</td></tr><tr><td>23-02-2015 00:00</td><td>Y</td><td>4857</td><td>29</td><td>Des Moines</td><td>1081390</td><td>IMPORTED SCHNAPPS</td><td>421</td><td>Sazerac Co., Inc.</td><td>69631</td><td>Dr. Mcgillicuddy's Cherry Mini</td><td>12</td><td>500</td><td>4.96</td><td>7.44</td><td>6</td><td>44.64</td></tr></tbody></table></div>"
      ]
     },
     "metadata": {
      "application/vnd.databricks.v1+output": {
       "addedWidgets": {},
       "aggData": [],
       "aggError": "",
       "aggOverflow": false,
       "aggSchema": [],
       "aggSeriesLimitReached": false,
       "aggType": "",
       "arguments": {},
       "columnCustomDisplayInfos": {},
       "data": [
        [
         "21-04-2014 00:00",
         "Y",
         "4897",
         "29",
         "Des Moines",
         "1031080",
         "80 PROOF VODKA",
         "380",
         "Phillips Beverage Company",
         "37348",
         "Phillips Vodka",
         6,
         1750,
         7.6,
         11.4,
         6,
         68.4
        ],
        [
         "14-04-2014 00:00",
         "Y",
         "4857",
         "29",
         "Des Moines",
         "1062310",
         "SPICED RUM",
         "260",
         "Diageo Americas",
         "43334",
         "Captain Morgan Spiced Rum",
         24,
         375,
         5.0,
         7.5,
         3,
         22.5
        ],
        [
         "17-03-2014 00:00",
         "Y",
         "4752",
         "29",
         "Des Moines",
         "1032200",
         "IMPORTED VODKA - MISC",
         "260",
         "Diageo Americas",
         "64750",
         "Ciroc Coconut",
         12,
         750,
         18.75,
         28.12,
         12,
         337.44
        ],
        [
         "15-09-2014 00:00",
         "Y",
         "4752",
         "29",
         "Des Moines",
         "1032080",
         "IMPORTED VODKA",
         "35",
         "Bacardi U.S.A. Inc.",
         "34423",
         "Grey Goose Vodka",
         12,
         375,
         9.0,
         13.5,
         12,
         162.0
        ],
        [
         "23-02-2015 00:00",
         "Y",
         "4857",
         "29",
         "Des Moines",
         "1081390",
         "IMPORTED SCHNAPPS",
         "421",
         "Sazerac Co., Inc.",
         "69631",
         "Dr. Mcgillicuddy's Cherry Mini",
         12,
         500,
         4.96,
         7.44,
         6,
         44.64
        ]
       ],
       "datasetInfos": [],
       "dbfsResultPath": null,
       "isJsonSchema": true,
       "metadata": {},
       "overflow": false,
       "plotOptions": {
        "customPlotOptions": {},
        "displayType": "table",
        "pivotAggregation": null,
        "pivotColumns": null,
        "xColumns": null,
        "yColumns": null
       },
       "removedWidgets": [],
       "schema": [
        {
         "metadata": "{}",
         "name": "date",
         "type": "\"string\""
        },
        {
         "metadata": "{}",
         "name": "convenience_store",
         "type": "\"string\""
        },
        {
         "metadata": "{}",
         "name": "store",
         "type": "\"string\""
        },
        {
         "metadata": "{}",
         "name": "county_number",
         "type": "\"string\""
        },
        {
         "metadata": "{}",
         "name": "county",
         "type": "\"string\""
        },
        {
         "metadata": "{}",
         "name": "category",
         "type": "\"string\""
        },
        {
         "metadata": "{}",
         "name": "category_name",
         "type": "\"string\""
        },
        {
         "metadata": "{}",
         "name": "vendor_no",
         "type": "\"string\""
        },
        {
         "metadata": "{}",
         "name": "vendor",
         "type": "\"string\""
        },
        {
         "metadata": "{}",
         "name": "item",
         "type": "\"string\""
        },
        {
         "metadata": "{}",
         "name": "description",
         "type": "\"string\""
        },
        {
         "metadata": "{}",
         "name": "pack",
         "type": "\"long\""
        },
        {
         "metadata": "{}",
         "name": "liter_size",
         "type": "\"long\""
        },
        {
         "metadata": "{}",
         "name": "state_btl_cost",
         "type": "\"double\""
        },
        {
         "metadata": "{}",
         "name": "btl_price",
         "type": "\"double\""
        },
        {
         "metadata": "{}",
         "name": "bottle_qty",
         "type": "\"long\""
        },
        {
         "metadata": "{}",
         "name": "total",
         "type": "\"double\""
        }
       ],
       "type": "table"
      }
     },
     "output_type": "display_data"
    }
   ],
   "source": [
    "%sql\n",
    "select * from hive_metastore.default.sales_data_0203 where convenience_store = 'Y' and county = 'Des Moines' limit 50"
   ]
  },
  {
   "cell_type": "code",
   "execution_count": 0,
   "metadata": {
    "application/vnd.databricks.v1+cell": {
     "cellMetadata": {
      "byteLimit": 2048000,
      "rowLimit": 10000
     },
     "inputWidgets": {},
     "nuid": "e02e7679-8bf7-4066-a28b-1e6d82eea6ba",
     "showTitle": false,
     "title": ""
    }
   },
   "outputs": [
    {
     "output_type": "stream",
     "name": "stdout",
     "output_type": "stream",
     "text": [
      "+----------------+-----------------+-----+-------------+----------+--------+---------------------+---------+-------------------------+-----+------------------------------+----+----------+--------------+---------+----------+------+\n|date            |convenience_store|store|county_number|county    |category|category_name        |vendor_no|vendor                   |item |description                   |pack|liter_size|state_btl_cost|btl_price|bottle_qty|total |\n+----------------+-----------------+-----+-------------+----------+--------+---------------------+---------+-------------------------+-----+------------------------------+----+----------+--------------+---------+----------+------+\n|21-04-2014 00:00|Y                |4897 |29           |Des Moines|1031080 |80 PROOF VODKA       |380      |Phillips Beverage Company|37348|Phillips Vodka                |6   |1750      |7.6           |11.4     |6         |68.4  |\n|14-04-2014 00:00|Y                |4857 |29           |Des Moines|1062310 |SPICED RUM           |260      |Diageo Americas          |43334|Captain Morgan Spiced Rum     |24  |375       |5.0           |7.5      |3         |22.5  |\n|17-03-2014 00:00|Y                |4752 |29           |Des Moines|1032200 |IMPORTED VODKA - MISC|260      |Diageo Americas          |64750|Ciroc Coconut                 |12  |750       |18.75         |28.12    |12        |337.44|\n|15-09-2014 00:00|Y                |4752 |29           |Des Moines|1032080 |IMPORTED VODKA       |35       |Bacardi U.S.A. Inc.      |34423|Grey Goose Vodka              |12  |375       |9.0           |13.5     |12        |162.0 |\n|23-02-2015 00:00|Y                |4857 |29           |Des Moines|1081390 |IMPORTED SCHNAPPS    |421      |Sazerac Co., Inc.        |69631|Dr. Mcgillicuddy's Cherry Mini|12  |500       |4.96          |7.44     |6         |44.64 |\n+----------------+-----------------+-----+-------------+----------+--------+---------------------+---------+-------------------------+-----+------------------------------+----+----------+--------------+---------+----------+------+\n\n"
     ]
    }
   ],
   "source": [
    "%python\n",
    "sales_data_python_2.filter((sales_data_python_2.convenience_store  == \"Y\") & (sales_data_python_2.county  == \"Des Moines\")).show(truncate=False)"
   ]
  },
  {
   "cell_type": "markdown",
   "metadata": {
    "application/vnd.databricks.v1+cell": {
     "cellMetadata": {
      "byteLimit": 2048000,
      "rowLimit": 10000
     },
     "inputWidgets": {},
     "nuid": "4334b0e6-d1e6-4d41-8cbc-7087b25ea4ca",
     "showTitle": false,
     "title": ""
    }
   },
   "source": [
    "##### Group by, Aggregations and sort "
   ]
  },
  {
   "cell_type": "code",
   "execution_count": 0,
   "metadata": {
    "application/vnd.databricks.v1+cell": {
     "cellMetadata": {
      "byteLimit": 2048000,
      "implicitDf": true,
      "rowLimit": 10000
     },
     "inputWidgets": {},
     "nuid": "5823bd46-8f4a-472d-9a09-1e7456156d19",
     "showTitle": false,
     "title": ""
    }
   },
   "outputs": [
    {
     "output_type": "display_data",
     "data": {
      "text/html": [
       "<style scoped>\n",
       "  .table-result-container {\n",
       "    max-height: 300px;\n",
       "    overflow: auto;\n",
       "  }\n",
       "  table, th, td {\n",
       "    border: 1px solid black;\n",
       "    border-collapse: collapse;\n",
       "  }\n",
       "  th, td {\n",
       "    padding: 5px;\n",
       "  }\n",
       "  th {\n",
       "    text-align: left;\n",
       "  }\n",
       "</style><div class='table-result-container'><table class='table-result'><thead style='background-color: white'><tr><th>county</th><th>total_sales</th></tr></thead><tbody><tr><td>Polk</td><td>62402.03000000004</td></tr><tr><td>Scott</td><td>23958.249999999993</td></tr><tr><td>Linn</td><td>18110.439999999995</td></tr><tr><td>Johnson</td><td>15789.069999999994</td></tr><tr><td>Black Hawk</td><td>13666.82</td></tr><tr><td>Dallas</td><td>11682.649999999998</td></tr><tr><td>Marshall</td><td>10854.190000000002</td></tr><tr><td>Benton</td><td>10029.05</td></tr><tr><td>Pottawattamie</td><td>8811.509999999998</td></tr><tr><td>Dubuque</td><td>7390.18</td></tr></tbody></table></div>"
      ]
     },
     "metadata": {
      "application/vnd.databricks.v1+output": {
       "addedWidgets": {},
       "aggData": [],
       "aggError": "",
       "aggOverflow": false,
       "aggSchema": [],
       "aggSeriesLimitReached": false,
       "aggType": "",
       "arguments": {},
       "columnCustomDisplayInfos": {},
       "data": [
        [
         "Polk",
         62402.03000000004
        ],
        [
         "Scott",
         23958.249999999993
        ],
        [
         "Linn",
         18110.439999999995
        ],
        [
         "Johnson",
         15789.069999999994
        ],
        [
         "Black Hawk",
         13666.82
        ],
        [
         "Dallas",
         11682.649999999998
        ],
        [
         "Marshall",
         10854.190000000002
        ],
        [
         "Benton",
         10029.05
        ],
        [
         "Pottawattamie",
         8811.509999999998
        ],
        [
         "Dubuque",
         7390.18
        ]
       ],
       "datasetInfos": [],
       "dbfsResultPath": null,
       "isJsonSchema": true,
       "metadata": {},
       "overflow": false,
       "plotOptions": {
        "customPlotOptions": {},
        "displayType": "table",
        "pivotAggregation": null,
        "pivotColumns": null,
        "xColumns": null,
        "yColumns": null
       },
       "removedWidgets": [],
       "schema": [
        {
         "metadata": "{}",
         "name": "county",
         "type": "\"string\""
        },
        {
         "metadata": "{}",
         "name": "total_sales",
         "type": "\"double\""
        }
       ],
       "type": "table"
      }
     },
     "output_type": "display_data"
    },
    {
     "output_type": "display_data",
     "data": {
      "text/plain": [
       "Databricks visualization. Run in Databricks to view."
      ]
     },
     "metadata": {
      "application/vnd.databricks.v1.subcommand+json": {
       "baseErrorDetails": null,
       "bindings": {},
       "collapsed": false,
       "command": "%sql WITH q AS (select county, sum(total) as total_sales from `hive_metastore`.`default`.`sales_data_0203` group by county order by total_sales desc limit 10) SELECT `county`,SUM(`total_sales`) `column_d826c5f024`,`county` FROM q GROUP BY `county`",
       "commandTitle": "Visualization 1",
       "commandType": "auto",
       "commandVersion": 0,
       "commentThread": [],
       "commentsVisible": false,
       "contentSha256Hex": null,
       "customPlotOptions": {
        "redashChart": [
         {
          "key": "type",
          "value": "CHART"
         },
         {
          "key": "options",
          "value": {
           "alignYAxesAtZero": true,
           "coefficient": 1,
           "columnConfigurationMap": {
            "series": {
             "column": "county",
             "id": "column_d826c5f030"
            },
            "x": {
             "column": "county",
             "id": "column_d826c5f028"
            },
            "y": [
             {
              "column": "total_sales",
              "id": "column_d826c5f024",
              "transform": "SUM"
             }
            ]
           },
           "dateTimeFormat": "DD/MM/YYYY HH:mm",
           "direction": {
            "type": "counterclockwise"
           },
           "error_y": {
            "type": "data",
            "visible": true
           },
           "globalSeriesType": "column",
           "isAggregationOn": true,
           "legend": {
            "traceorder": "normal"
           },
           "missingValuesAsZero": true,
           "numberFormat": "0,0.[00000]",
           "percentFormat": "0[.]00%",
           "series": {
            "error_y": {
             "type": "data",
             "visible": true
            },
            "stacking": null
           },
           "seriesOptions": {
            "column_d826c5f024": {
             "name": "total_sales",
             "yAxis": 0
            }
           },
           "showDataLabels": false,
           "sizemode": "diameter",
           "sortX": true,
           "sortY": true,
           "swappedAxes": true,
           "textFormat": "",
           "useAggregationsUi": true,
           "valuesOptions": {},
           "version": 2,
           "xAxis": {
            "labels": {
             "enabled": true
            },
            "type": "-"
           },
           "yAxis": [
            {
             "type": "-"
            },
            {
             "opposite": true,
             "type": "-"
            }
           ]
          }
         }
        ]
       },
       "datasetPreviewNameToCmdIdMap": {},
       "diffDeletes": [],
       "diffInserts": [],
       "displayType": "redashChart",
       "error": null,
       "errorDetails": null,
       "errorSummary": null,
       "errorTraceType": null,
       "finishTime": 0,
       "globalVars": {},
       "guid": "",
       "height": "auto",
       "hideCommandCode": false,
       "hideCommandResult": false,
       "iPythonMetadata": null,
       "inputWidgets": {},
       "isLockedInExamMode": false,
       "latestUser": "a user",
       "latestUserId": null,
       "listResultMetadata": null,
       "metadata": {},
       "nuid": "107e64b2-b82d-49dc-825f-f2f1eefb5bf8",
       "origId": 0,
       "parentHierarchy": [],
       "pivotAggregation": null,
       "pivotColumns": null,
       "position": 20.0,
       "resultDbfsErrorMessage": null,
       "resultDbfsStatus": "INLINED_IN_TREE",
       "results": null,
       "showCommandTitle": false,
       "startTime": 0,
       "state": "input",
       "streamStates": {},
       "subcommandOptions": {
        "queryPlan": {
         "groups": [
          {
           "column": "county",
           "type": "column"
          },
          {
           "column": "county",
           "type": "column"
          }
         ],
         "selects": [
          {
           "column": "county",
           "type": "column"
          },
          {
           "alias": "column_d826c5f024",
           "args": [
            {
             "column": "total_sales",
             "type": "column"
            }
           ],
           "function": "SUM",
           "type": "function"
          },
          {
           "column": "county",
           "type": "column"
          }
         ]
        }
       },
       "submitTime": 0,
       "subtype": "tableResultSubCmd.visualization",
       "tableResultIndex": 0,
       "useConsistentColors": false,
       "version": "CommandV1",
       "width": "auto",
       "workflows": [],
       "xColumns": null,
       "yColumns": null
      }
     },
     "output_type": "display_data"
    }
   ],
   "source": [
    "%sql\n",
    "select county, sum(total) as total_sales from `hive_metastore`.`default`.`sales_data_0203` group by county order by total_sales desc limit 10"
   ]
  },
  {
   "cell_type": "code",
   "execution_count": 0,
   "metadata": {
    "application/vnd.databricks.v1+cell": {
     "cellMetadata": {
      "byteLimit": 2048000,
      "rowLimit": 10000
     },
     "inputWidgets": {},
     "nuid": "8d314f68-fc06-40e6-b881-3fb7cbd86914",
     "showTitle": false,
     "title": ""
    }
   },
   "outputs": [],
   "source": [
    "%python\n",
    "from pyspark.sql.functions import sum, col, desc"
   ]
  },
  {
   "cell_type": "code",
   "execution_count": 0,
   "metadata": {
    "application/vnd.databricks.v1+cell": {
     "cellMetadata": {
      "byteLimit": 2048000,
      "rowLimit": 10000
     },
     "inputWidgets": {},
     "nuid": "c83a5236-3f85-4ac0-8a65-6a9b409b8813",
     "showTitle": false,
     "title": ""
    }
   },
   "outputs": [
    {
     "output_type": "stream",
     "name": "stdout",
     "output_type": "stream",
     "text": [
      "+-------------+------------------+\n|county       |sum_sales         |\n+-------------+------------------+\n|Polk         |62402.03000000004 |\n|Scott        |23958.249999999993|\n|Linn         |18110.439999999995|\n|Johnson      |15789.069999999994|\n|Black Hawk   |13666.82          |\n|Dallas       |11682.649999999998|\n|Marshall     |10854.190000000002|\n|Benton       |10029.05          |\n|Pottawattamie|8811.509999999998 |\n|Dubuque      |7390.18           |\n|Woodbury     |6432.079999999998 |\n|Story        |6332.02           |\n|Cerro Gordo  |5343.299999999999 |\n|Clinton      |4559.369999999999 |\n|Muscatine    |4140.42           |\n|Dickinson    |3813.47           |\n|Lee          |3216.59           |\n|Des Moines   |2994.42           |\n|Delaware     |2725.2            |\n|Jasper       |2606.1600000000003|\n+-------------+------------------+\nonly showing top 20 rows\n\n"
     ]
    }
   ],
   "source": [
    "%python\n",
    "sales_data_python_2.groupBy(\"county\").agg(sum(\"total\").alias(\"sum_sales\")).sort(desc(\"sum_sales\")).show(truncate=False)"
   ]
  },
  {
   "cell_type": "code",
   "execution_count": 0,
   "metadata": {
    "application/vnd.databricks.v1+cell": {
     "cellMetadata": {
      "byteLimit": 2048000,
      "implicitDf": true,
      "rowLimit": 10000
     },
     "inputWidgets": {},
     "nuid": "0f3fde52-75a6-4eb7-a314-fb4f6ab7801b",
     "showTitle": false,
     "title": ""
    }
   },
   "outputs": [
    {
     "output_type": "display_data",
     "data": {
      "text/html": [
       "<style scoped>\n",
       "  .table-result-container {\n",
       "    max-height: 300px;\n",
       "    overflow: auto;\n",
       "  }\n",
       "  table, th, td {\n",
       "    border: 1px solid black;\n",
       "    border-collapse: collapse;\n",
       "  }\n",
       "  th, td {\n",
       "    padding: 5px;\n",
       "  }\n",
       "  th {\n",
       "    text-align: left;\n",
       "  }\n",
       "</style><div class='table-result-container'><table class='table-result'><thead style='background-color: white'><tr><th>county</th><th>category_name</th><th>total_sales</th></tr></thead><tbody><tr><td>Polk</td><td>SPICED RUM</td><td>19138.22</td></tr><tr><td>Dallas</td><td>STRAIGHT RYE WHISKIES</td><td>10044.9</td></tr><tr><td>Benton</td><td>CANADIAN WHISKIES</td><td>9408.0</td></tr><tr><td>Marshall</td><td>CANADIAN WHISKIES</td><td>9147.6</td></tr><tr><td>Scott</td><td>IMPORTED VODKA</td><td>6356.9</td></tr><tr><td>Polk</td><td>80 PROOF VODKA</td><td>6116.959999999999</td></tr><tr><td>Scott</td><td>80 PROOF VODKA</td><td>4444.8</td></tr><tr><td>Polk</td><td>STRAIGHT BOURBON WHISKIES</td><td>3951.1899999999996</td></tr><tr><td>Johnson</td><td>SPICED RUM</td><td>3748.35</td></tr><tr><td>Polk</td><td>CREAM LIQUEURS</td><td>3224.5299999999997</td></tr></tbody></table></div>"
      ]
     },
     "metadata": {
      "application/vnd.databricks.v1+output": {
       "addedWidgets": {},
       "aggData": [],
       "aggError": "",
       "aggOverflow": false,
       "aggSchema": [],
       "aggSeriesLimitReached": false,
       "aggType": "",
       "arguments": {},
       "columnCustomDisplayInfos": {},
       "data": [
        [
         "Polk",
         "SPICED RUM",
         19138.22
        ],
        [
         "Dallas",
         "STRAIGHT RYE WHISKIES",
         10044.9
        ],
        [
         "Benton",
         "CANADIAN WHISKIES",
         9408.0
        ],
        [
         "Marshall",
         "CANADIAN WHISKIES",
         9147.6
        ],
        [
         "Scott",
         "IMPORTED VODKA",
         6356.9
        ],
        [
         "Polk",
         "80 PROOF VODKA",
         6116.959999999999
        ],
        [
         "Scott",
         "80 PROOF VODKA",
         4444.8
        ],
        [
         "Polk",
         "STRAIGHT BOURBON WHISKIES",
         3951.1899999999996
        ],
        [
         "Johnson",
         "SPICED RUM",
         3748.35
        ],
        [
         "Polk",
         "CREAM LIQUEURS",
         3224.5299999999997
        ]
       ],
       "datasetInfos": [],
       "dbfsResultPath": null,
       "isJsonSchema": true,
       "metadata": {},
       "overflow": false,
       "plotOptions": {
        "customPlotOptions": {},
        "displayType": "table",
        "pivotAggregation": null,
        "pivotColumns": null,
        "xColumns": null,
        "yColumns": null
       },
       "removedWidgets": [],
       "schema": [
        {
         "metadata": "{}",
         "name": "county",
         "type": "\"string\""
        },
        {
         "metadata": "{}",
         "name": "category_name",
         "type": "\"string\""
        },
        {
         "metadata": "{}",
         "name": "total_sales",
         "type": "\"double\""
        }
       ],
       "type": "table"
      }
     },
     "output_type": "display_data"
    }
   ],
   "source": [
    "%sql\n",
    "select county, category_name, sum(total) as total_sales from hive_metastore.default.sales_data_0203 group by county, category_name order by total_sales desc limit 10"
   ]
  },
  {
   "cell_type": "code",
   "execution_count": 0,
   "metadata": {
    "application/vnd.databricks.v1+cell": {
     "cellMetadata": {
      "byteLimit": 2048000,
      "rowLimit": 10000
     },
     "inputWidgets": {},
     "nuid": "fe6c56cf-9141-45b7-a81b-8759f331e0ce",
     "showTitle": false,
     "title": ""
    }
   },
   "outputs": [
    {
     "output_type": "stream",
     "name": "stdout",
     "output_type": "stream",
     "text": [
      "+-------------+--------------------------------+------------------+---------------+\n|county       |category_name                   |sum(total)        |sum(bottle_qty)|\n+-------------+--------------------------------+------------------+---------------+\n|Cass         |SPICED RUM                      |319.44            |12             |\n|Chickasaw    |SPICED RUM                      |59.96             |4              |\n|Jasper       |STRAIGHT BOURBON WHISKIES       |21.42             |3              |\n|Kossuth      |PUERTO RICO & VIRGIN ISLANDS RUM|70.56             |6              |\n|Iowa         |TENNESSEE WHISKIES              |124.65            |3              |\n|Scott        |AMERICAN DRY GINS               |109.44            |8              |\n|Story        |WHISKEY LIQUEUR                 |206.21999999999997|13             |\n|Linn         |IRISH WHISKIES                  |53.46             |3              |\n|Johnson      |AMERICAN AMARETTO               |8.99              |1              |\n|Warren       |CANADIAN WHISKIES               |72.12             |12             |\n|Wapello      |CREAM LIQUEURS                  |39.76             |2              |\n|Adair        |STRAIGHT RYE WHISKIES           |162.84            |6              |\n|Pottawattamie|IMPORTED AMARETTO               |20.79             |1              |\n|Boone        |PUERTO RICO & VIRGIN ISLANDS RUM|70.56             |6              |\n|Lee          |SPICED RUM                      |19.59             |3              |\n|Des Moines   |AMERICAN AMARETTO               |15.21             |3              |\n|Johnson      |IMPORTED DRY GINS               |594.72            |27             |\n|Buchanan     |COFFEE LIQUEURS                 |90.0              |12             |\n|Story        |BLACKBERRY BRANDIES             |21.32             |4              |\n|Polk         |WHISKEY LIQUEUR                 |2090.75           |177            |\n+-------------+--------------------------------+------------------+---------------+\nonly showing top 20 rows\n\n"
     ]
    }
   ],
   "source": [
    "%python\n",
    "sales_data_python_2.groupBy(\"county\",\"category_name\").sum(\"total\",\"bottle_qty\").show(truncate=False)"
   ]
  },
  {
   "cell_type": "code",
   "execution_count": 0,
   "metadata": {
    "application/vnd.databricks.v1+cell": {
     "cellMetadata": {
      "byteLimit": 2048000,
      "implicitDf": true,
      "rowLimit": 10000
     },
     "inputWidgets": {},
     "nuid": "65d551a8-dd72-4fca-8368-61b3b798e5d6",
     "showTitle": false,
     "title": ""
    }
   },
   "outputs": [
    {
     "output_type": "display_data",
     "data": {
      "text/html": [
       "<style scoped>\n",
       "  .table-result-container {\n",
       "    max-height: 300px;\n",
       "    overflow: auto;\n",
       "  }\n",
       "  table, th, td {\n",
       "    border: 1px solid black;\n",
       "    border-collapse: collapse;\n",
       "  }\n",
       "  th, td {\n",
       "    padding: 5px;\n",
       "  }\n",
       "  th {\n",
       "    text-align: left;\n",
       "  }\n",
       "</style><div class='table-result-container'><table class='table-result'><thead style='background-color: white'><tr><th>county</th><th>category_name</th><th>total_sales</th><th>avg_sales</th></tr></thead><tbody><tr><td>null</td><td>null</td><td>null</td><td>null</td></tr><tr><td>Bremer</td><td>TENNESSEE WHISKIES</td><td>2.48</td><td>2.48</td></tr><tr><td>Des Moines</td><td>AMERICAN DRY GINS</td><td>2.99</td><td>2.99</td></tr><tr><td>Greene</td><td>CANADIAN WHISKIES</td><td>4.35</td><td>4.35</td></tr><tr><td>Marshall</td><td>AMERICAN DRY GINS</td><td>4.38</td><td>4.38</td></tr><tr><td>Marion</td><td>BLENDED WHISKIES</td><td>5.32</td><td>5.32</td></tr><tr><td>Johnson</td><td>IRISH WHISKIES</td><td>5.94</td><td>5.94</td></tr><tr><td>Linn</td><td>BUTTERSCOTCH SCHNAPPS</td><td>6.14</td><td>6.14</td></tr><tr><td>Marshall</td><td>PUERTO RICO & VIRGIN ISLANDS RUM</td><td>6.24</td><td>6.24</td></tr><tr><td>Clayton</td><td>TRIPLE SEC</td><td>6.66</td><td>6.66</td></tr><tr><td>Harrison</td><td>TROPICAL FRUIT SCHNAPPS</td><td>6.81</td><td>6.81</td></tr><tr><td>Cedar</td><td>TROPICAL FRUIT SCHNAPPS</td><td>6.81</td><td>6.81</td></tr><tr><td>Jasper</td><td>GREEN CREME DE MENTHE</td><td>6.97</td><td>6.97</td></tr><tr><td>Clinton</td><td>WHISKEY LIQUEUR</td><td>7.07</td><td>7.07</td></tr><tr><td>Pottawattamie</td><td>ANISETTE</td><td>7.13</td><td>7.13</td></tr><tr><td>Monona</td><td>AMERICAN COCKTAILS</td><td>7.16</td><td>7.16</td></tr><tr><td>Warren</td><td>MISC. AMERICAN CORDIALS & LIQUEURS</td><td>7.44</td><td>7.44</td></tr><tr><td>Wapello</td><td>CANADIAN WHISKIES</td><td>7.44</td><td>7.44</td></tr><tr><td>Carroll</td><td>IMPORTED VODKA</td><td>7.5</td><td>7.5</td></tr><tr><td>Woodbury</td><td>AMERICAN GRAPE BRANDIES</td><td>8.88</td><td>8.88</td></tr><tr><td>Ida</td><td>AMERICAN DRY GINS</td><td>8.94</td><td>8.94</td></tr><tr><td>Johnson</td><td>AMERICAN AMARETTO</td><td>8.99</td><td>8.99</td></tr><tr><td>Benton</td><td>CREAM LIQUEURS</td><td>9.05</td><td>9.05</td></tr><tr><td>Jones</td><td>SCOTCH WHISKIES</td><td>9.21</td><td>9.21</td></tr><tr><td>Benton</td><td>APPLE SCHNAPPS</td><td>9.22</td><td>9.22</td></tr><tr><td>Monona</td><td>CINNAMON SCHNAPPS</td><td>9.22</td><td>9.22</td></tr><tr><td>Boone</td><td>STRAIGHT BOURBON WHISKIES</td><td>9.24</td><td>9.24</td></tr><tr><td>Henry</td><td>PEACH SCHNAPPS</td><td>9.45</td><td>9.45</td></tr><tr><td>Wapello</td><td>COFFEE LIQUEURS</td><td>9.74</td><td>9.74</td></tr><tr><td>Poweshiek</td><td>COFFEE LIQUEURS</td><td>9.9</td><td>9.9</td></tr><tr><td>Tama</td><td>CREAM LIQUEURS</td><td>9.95</td><td>9.95</td></tr><tr><td>Jackson</td><td>AMERICAN AMARETTO</td><td>10.14</td><td>10.14</td></tr><tr><td>Marion</td><td>TENNESSEE WHISKIES</td><td>10.16</td><td>10.16</td></tr><tr><td>Dubuque</td><td>AMERICAN DRY GINS</td><td>10.18</td><td>10.18</td></tr><tr><td>Mahaska</td><td>FLAVORED RUM</td><td>10.25</td><td>10.25</td></tr><tr><td>Washington</td><td>AMERICAN DRY GINS</td><td>10.35</td><td>10.35</td></tr><tr><td>Buena Vista</td><td>BLENDED WHISKIES</td><td>10.38</td><td>10.38</td></tr><tr><td>Jackson</td><td>BLENDED WHISKIES</td><td>10.5</td><td>10.5</td></tr><tr><td>Louisa</td><td>BLENDED WHISKIES</td><td>11.02</td><td>11.02</td></tr><tr><td>Bremer</td><td>FLAVORED RUM</td><td>11.23</td><td>11.23</td></tr><tr><td>Poweshiek</td><td>FLAVORED RUM</td><td>11.24</td><td>11.24</td></tr><tr><td>Monona</td><td>FLAVORED VODKA</td><td>11.25</td><td>11.25</td></tr><tr><td>Clayton</td><td>BUTTERSCOTCH SCHNAPPS</td><td>11.43</td><td>11.43</td></tr><tr><td>Des Moines</td><td>ROOT BEER SCHNAPPS</td><td>11.43</td><td>11.43</td></tr><tr><td>Clayton</td><td>ROOT BEER SCHNAPPS</td><td>11.43</td><td>11.43</td></tr><tr><td>Dickinson</td><td>CREAM LIQUEURS</td><td>11.53</td><td>11.53</td></tr><tr><td>Muscatine</td><td>BLENDED WHISKIES</td><td>11.76</td><td>11.76</td></tr><tr><td>Crawford</td><td>PUERTO RICO & VIRGIN ISLANDS RUM</td><td>11.76</td><td>11.76</td></tr><tr><td>Mitchell</td><td>STRAIGHT BOURBON WHISKIES</td><td>11.79</td><td>11.79</td></tr><tr><td>Polk</td><td>OTHER PROOF VODKA</td><td>11.79</td><td>11.79</td></tr></tbody></table></div>"
      ]
     },
     "metadata": {
      "application/vnd.databricks.v1+output": {
       "addedWidgets": {},
       "aggData": [],
       "aggError": "",
       "aggOverflow": false,
       "aggSchema": [],
       "aggSeriesLimitReached": false,
       "aggType": "",
       "arguments": {},
       "columnCustomDisplayInfos": {},
       "data": [
        [
         null,
         null,
         null,
         null
        ],
        [
         "Bremer",
         "TENNESSEE WHISKIES",
         2.48,
         2.48
        ],
        [
         "Des Moines",
         "AMERICAN DRY GINS",
         2.99,
         2.99
        ],
        [
         "Greene",
         "CANADIAN WHISKIES",
         4.35,
         4.35
        ],
        [
         "Marshall",
         "AMERICAN DRY GINS",
         4.38,
         4.38
        ],
        [
         "Marion",
         "BLENDED WHISKIES",
         5.32,
         5.32
        ],
        [
         "Johnson",
         "IRISH WHISKIES",
         5.94,
         5.94
        ],
        [
         "Linn",
         "BUTTERSCOTCH SCHNAPPS",
         6.14,
         6.14
        ],
        [
         "Marshall",
         "PUERTO RICO & VIRGIN ISLANDS RUM",
         6.24,
         6.24
        ],
        [
         "Clayton",
         "TRIPLE SEC",
         6.66,
         6.66
        ],
        [
         "Harrison",
         "TROPICAL FRUIT SCHNAPPS",
         6.81,
         6.81
        ],
        [
         "Cedar",
         "TROPICAL FRUIT SCHNAPPS",
         6.81,
         6.81
        ],
        [
         "Jasper",
         "GREEN CREME DE MENTHE",
         6.97,
         6.97
        ],
        [
         "Clinton",
         "WHISKEY LIQUEUR",
         7.07,
         7.07
        ],
        [
         "Pottawattamie",
         "ANISETTE",
         7.13,
         7.13
        ],
        [
         "Monona",
         "AMERICAN COCKTAILS",
         7.16,
         7.16
        ],
        [
         "Warren",
         "MISC. AMERICAN CORDIALS & LIQUEURS",
         7.44,
         7.44
        ],
        [
         "Wapello",
         "CANADIAN WHISKIES",
         7.44,
         7.44
        ],
        [
         "Carroll",
         "IMPORTED VODKA",
         7.5,
         7.5
        ],
        [
         "Woodbury",
         "AMERICAN GRAPE BRANDIES",
         8.88,
         8.88
        ],
        [
         "Ida",
         "AMERICAN DRY GINS",
         8.94,
         8.94
        ],
        [
         "Johnson",
         "AMERICAN AMARETTO",
         8.99,
         8.99
        ],
        [
         "Benton",
         "CREAM LIQUEURS",
         9.05,
         9.05
        ],
        [
         "Jones",
         "SCOTCH WHISKIES",
         9.21,
         9.21
        ],
        [
         "Benton",
         "APPLE SCHNAPPS",
         9.22,
         9.22
        ],
        [
         "Monona",
         "CINNAMON SCHNAPPS",
         9.22,
         9.22
        ],
        [
         "Boone",
         "STRAIGHT BOURBON WHISKIES",
         9.24,
         9.24
        ],
        [
         "Henry",
         "PEACH SCHNAPPS",
         9.45,
         9.45
        ],
        [
         "Wapello",
         "COFFEE LIQUEURS",
         9.74,
         9.74
        ],
        [
         "Poweshiek",
         "COFFEE LIQUEURS",
         9.9,
         9.9
        ],
        [
         "Tama",
         "CREAM LIQUEURS",
         9.95,
         9.95
        ],
        [
         "Jackson",
         "AMERICAN AMARETTO",
         10.14,
         10.14
        ],
        [
         "Marion",
         "TENNESSEE WHISKIES",
         10.16,
         10.16
        ],
        [
         "Dubuque",
         "AMERICAN DRY GINS",
         10.18,
         10.18
        ],
        [
         "Mahaska",
         "FLAVORED RUM",
         10.25,
         10.25
        ],
        [
         "Washington",
         "AMERICAN DRY GINS",
         10.35,
         10.35
        ],
        [
         "Buena Vista",
         "BLENDED WHISKIES",
         10.38,
         10.38
        ],
        [
         "Jackson",
         "BLENDED WHISKIES",
         10.5,
         10.5
        ],
        [
         "Louisa",
         "BLENDED WHISKIES",
         11.02,
         11.02
        ],
        [
         "Bremer",
         "FLAVORED RUM",
         11.23,
         11.23
        ],
        [
         "Poweshiek",
         "FLAVORED RUM",
         11.24,
         11.24
        ],
        [
         "Monona",
         "FLAVORED VODKA",
         11.25,
         11.25
        ],
        [
         "Clayton",
         "BUTTERSCOTCH SCHNAPPS",
         11.43,
         11.43
        ],
        [
         "Des Moines",
         "ROOT BEER SCHNAPPS",
         11.43,
         11.43
        ],
        [
         "Clayton",
         "ROOT BEER SCHNAPPS",
         11.43,
         11.43
        ],
        [
         "Dickinson",
         "CREAM LIQUEURS",
         11.53,
         11.53
        ],
        [
         "Muscatine",
         "BLENDED WHISKIES",
         11.76,
         11.76
        ],
        [
         "Crawford",
         "PUERTO RICO & VIRGIN ISLANDS RUM",
         11.76,
         11.76
        ],
        [
         "Mitchell",
         "STRAIGHT BOURBON WHISKIES",
         11.79,
         11.79
        ],
        [
         "Polk",
         "OTHER PROOF VODKA",
         11.79,
         11.79
        ]
       ],
       "datasetInfos": [],
       "dbfsResultPath": null,
       "isJsonSchema": true,
       "metadata": {},
       "overflow": false,
       "plotOptions": {
        "customPlotOptions": {},
        "displayType": "table",
        "pivotAggregation": null,
        "pivotColumns": null,
        "xColumns": null,
        "yColumns": null
       },
       "removedWidgets": [],
       "schema": [
        {
         "metadata": "{}",
         "name": "county",
         "type": "\"string\""
        },
        {
         "metadata": "{}",
         "name": "category_name",
         "type": "\"string\""
        },
        {
         "metadata": "{}",
         "name": "total_sales",
         "type": "\"double\""
        },
        {
         "metadata": "{}",
         "name": "avg_sales",
         "type": "\"double\""
        }
       ],
       "type": "table"
      }
     },
     "output_type": "display_data"
    }
   ],
   "source": [
    "%sql\n",
    "select county, category_name, sum(total) as total_sales, avg(total) as avg_sales from hive_metastore.default.sales_data_0203 group by county, category_name order by total_sales limit 50"
   ]
  },
  {
   "cell_type": "code",
   "execution_count": 0,
   "metadata": {
    "application/vnd.databricks.v1+cell": {
     "cellMetadata": {
      "byteLimit": 2048000,
      "rowLimit": 10000
     },
     "inputWidgets": {},
     "nuid": "c7c7b2b8-829a-4d27-8fe7-6c03d5f772d4",
     "showTitle": false,
     "title": ""
    }
   },
   "outputs": [],
   "source": [
    "%python\n",
    "from pyspark.sql.functions import sum,avg,max"
   ]
  },
  {
   "cell_type": "code",
   "execution_count": 0,
   "metadata": {
    "application/vnd.databricks.v1+cell": {
     "cellMetadata": {
      "byteLimit": 2048000,
      "rowLimit": 10000
     },
     "inputWidgets": {},
     "nuid": "c9ddcb45-ffdf-4238-b068-80c8e257bd20",
     "showTitle": false,
     "title": ""
    }
   },
   "outputs": [
    {
     "output_type": "stream",
     "name": "stdout",
     "output_type": "stream",
     "text": [
      "+-------------+--------------------------------+------------------+------------------+\n|county       |category_name                   |sum_sales         |avg_sales         |\n+-------------+--------------------------------+------------------+------------------+\n|Cass         |SPICED RUM                      |319.44            |319.44            |\n|Chickasaw    |SPICED RUM                      |59.96             |59.96             |\n|Jasper       |STRAIGHT BOURBON WHISKIES       |21.42             |21.42             |\n|Kossuth      |PUERTO RICO & VIRGIN ISLANDS RUM|70.56             |70.56             |\n|Iowa         |TENNESSEE WHISKIES              |124.65            |124.65            |\n|Scott        |AMERICAN DRY GINS               |109.44            |54.72             |\n|Story        |WHISKEY LIQUEUR                 |206.21999999999997|103.10999999999999|\n|Linn         |IRISH WHISKIES                  |53.46             |53.46             |\n|Johnson      |AMERICAN AMARETTO               |8.99              |8.99              |\n|Warren       |CANADIAN WHISKIES               |72.12             |72.12             |\n|Wapello      |CREAM LIQUEURS                  |39.76             |39.76             |\n|Adair        |STRAIGHT RYE WHISKIES           |162.84            |162.84            |\n|Pottawattamie|IMPORTED AMARETTO               |20.79             |20.79             |\n|Boone        |PUERTO RICO & VIRGIN ISLANDS RUM|70.56             |70.56             |\n|Lee          |SPICED RUM                      |19.59             |9.795             |\n|Des Moines   |AMERICAN AMARETTO               |15.21             |15.21             |\n|Johnson      |IMPORTED DRY GINS               |594.72            |198.24            |\n|Buchanan     |COFFEE LIQUEURS                 |90.0              |90.0              |\n|Story        |BLACKBERRY BRANDIES             |21.32             |21.32             |\n|Polk         |WHISKEY LIQUEUR                 |2090.75           |116.15277777777777|\n+-------------+--------------------------------+------------------+------------------+\nonly showing top 20 rows\n\n"
     ]
    }
   ],
   "source": [
    "%python\n",
    "sales_data_python_2.groupBy(\"county\",\"category_name\").agg(sum(\"total\").alias(\"sum_sales\"),avg(\"total\").alias(\"avg_sales\")).show(truncate=False)"
   ]
  },
  {
   "cell_type": "markdown",
   "metadata": {
    "application/vnd.databricks.v1+cell": {
     "cellMetadata": {
      "byteLimit": 2048000,
      "rowLimit": 10000
     },
     "inputWidgets": {},
     "nuid": "a604cb1c-4163-4da8-9f25-81755c905549",
     "showTitle": false,
     "title": ""
    }
   },
   "source": [
    "##### Group by, Aggregations and sort with filter"
   ]
  },
  {
   "cell_type": "code",
   "execution_count": 0,
   "metadata": {
    "application/vnd.databricks.v1+cell": {
     "cellMetadata": {
      "byteLimit": 2048000,
      "implicitDf": true,
      "rowLimit": 10000
     },
     "inputWidgets": {},
     "nuid": "05250a71-f033-4005-9982-d3b13e3d05f5",
     "showTitle": false,
     "title": ""
    }
   },
   "outputs": [
    {
     "output_type": "display_data",
     "data": {
      "text/html": [
       "<style scoped>\n",
       "  .table-result-container {\n",
       "    max-height: 300px;\n",
       "    overflow: auto;\n",
       "  }\n",
       "  table, th, td {\n",
       "    border: 1px solid black;\n",
       "    border-collapse: collapse;\n",
       "  }\n",
       "  th, td {\n",
       "    padding: 5px;\n",
       "  }\n",
       "  th {\n",
       "    text-align: left;\n",
       "  }\n",
       "</style><div class='table-result-container'><table class='table-result'><thead style='background-color: white'><tr><th>county</th><th>total_sales</th></tr></thead><tbody><tr><td>Polk</td><td>62402.03000000004</td></tr><tr><td>Des Moines</td><td>2994.42</td></tr></tbody></table></div>"
      ]
     },
     "metadata": {
      "application/vnd.databricks.v1+output": {
       "addedWidgets": {},
       "aggData": [],
       "aggError": "",
       "aggOverflow": false,
       "aggSchema": [],
       "aggSeriesLimitReached": false,
       "aggType": "",
       "arguments": {},
       "columnCustomDisplayInfos": {},
       "data": [
        [
         "Polk",
         62402.03000000004
        ],
        [
         "Des Moines",
         2994.42
        ]
       ],
       "datasetInfos": [],
       "dbfsResultPath": null,
       "isJsonSchema": true,
       "metadata": {},
       "overflow": false,
       "plotOptions": {
        "customPlotOptions": {},
        "displayType": "table",
        "pivotAggregation": null,
        "pivotColumns": null,
        "xColumns": null,
        "yColumns": null
       },
       "removedWidgets": [],
       "schema": [
        {
         "metadata": "{}",
         "name": "county",
         "type": "\"string\""
        },
        {
         "metadata": "{}",
         "name": "total_sales",
         "type": "\"double\""
        }
       ],
       "type": "table"
      }
     },
     "output_type": "display_data"
    }
   ],
   "source": [
    "%sql\n",
    "select county, sum(total) as total_sales from hive_metastore.default.sales_data_0203 where county in('Des Moines','Polk') group by county order by total_sales desc"
   ]
  },
  {
   "cell_type": "code",
   "execution_count": 0,
   "metadata": {
    "application/vnd.databricks.v1+cell": {
     "cellMetadata": {
      "byteLimit": 2048000,
      "rowLimit": 10000
     },
     "inputWidgets": {},
     "nuid": "e27f3130-f539-45c8-8bea-6072e6209d93",
     "showTitle": false,
     "title": ""
    }
   },
   "outputs": [
    {
     "output_type": "stream",
     "name": "stdout",
     "output_type": "stream",
     "text": [
      "+----------+---------+\n|county    |sum_sales|\n+----------+---------+\n|Des Moines|2994.42  |\n+----------+---------+\n\n"
     ]
    }
   ],
   "source": [
    "%python\n",
    "sales_data_python_2.groupBy(\"county\").agg(sum(\"total\").alias(\"sum_sales\")).where(col(\"county\") == \"Des Moines\").sort(desc(\"sum_sales\")).show(truncate=False)"
   ]
  },
  {
   "cell_type": "code",
   "execution_count": 0,
   "metadata": {
    "application/vnd.databricks.v1+cell": {
     "cellMetadata": {
      "byteLimit": 2048000,
      "rowLimit": 10000
     },
     "inputWidgets": {},
     "nuid": "47373621-5a34-403e-9866-bc9df7dc5ad5",
     "showTitle": false,
     "title": ""
    }
   },
   "outputs": [
    {
     "output_type": "stream",
     "name": "stdout",
     "output_type": "stream",
     "text": [
      "+----------+-----------------+\n|county    |sum_sales        |\n+----------+-----------------+\n|Polk      |62402.03000000004|\n|Des Moines|2994.42          |\n+----------+-----------------+\n\n"
     ]
    }
   ],
   "source": [
    "%python\n",
    "sales_data_python_2.groupBy(\"county\").agg(sum(\"total\").alias(\"sum_sales\")).filter((sales_data_python_2.county == 'Des Moines') | (sales_data_python_2.county == 'Polk')).sort(desc(\"sum_sales\")).show(truncate=False)"
   ]
  }
 ],
 "metadata": {
  "application/vnd.databricks.v1+notebook": {
   "dashboards": [
    {
     "elements": [
      {
       "dashboardResultIndex": 0,
       "elementNUID": "5823bd46-8f4a-472d-9a09-1e7456156d19",
       "elementType": "command",
       "guid": "9d0d28a1-e724-4b2b-8c56-4bf8d9583145",
       "options": null,
       "position": {
        "height": 6,
        "width": 12,
        "x": 0,
        "y": 0,
        "z": null
       },
       "resultIndex": null
      }
     ],
     "globalVars": {},
     "guid": "",
     "layoutOption": {
      "grid": true,
      "stack": true
     },
     "nuid": "096e3427-390c-4bd8-85f9-54924f001682",
     "origId": 1640632090842889,
     "title": "Untitled",
     "version": "DashboardViewV1",
     "width": 1024
    }
   ],
   "environmentMetadata": null,
   "language": "python",
   "notebookMetadata": {
    "mostRecentlyExecutedCommandWithImplicitDF": {
     "commandId": 1640632090842885,
     "dataframes": [
      "_sqldf"
     ]
    },
    "pythonIndentUnit": 4
   },
   "notebookName": "nb_project1_dev (2)",
   "widgets": {}
  }
 },
 "nbformat": 4,
 "nbformat_minor": 0
}
